{
 "cells": [
  {
   "cell_type": "code",
   "execution_count": 1,
   "metadata": {},
   "outputs": [
    {
     "name": "stderr",
     "output_type": "stream",
     "text": [
      "2023-05-24 11:29:09.174389: I tensorflow/core/platform/cpu_feature_guard.cc:193] This TensorFlow binary is optimized with oneAPI Deep Neural Network Library (oneDNN) to use the following CPU instructions in performance-critical operations:  AVX2 FMA\n",
      "To enable them in other operations, rebuild TensorFlow with the appropriate compiler flags.\n"
     ]
    }
   ],
   "source": [
    "import os\n",
    "\n",
    "from sionna.mapping import Constellation, Mapper, Demapper\n",
    "from sionna.fec.ldpc import LDPC5GEncoder, LDPC5GDecoder\n",
    "from sionna.utils import ebnodb2no\n",
    "from sionna.channel import AWGN, FlatFadingChannel\n",
    "\n",
    "import tensorflow as tf\n",
    "from PIL import Image\n",
    "import math\n",
    "import numpy as np\n",
    "\n",
    "from utils.image import imBatchtoImage"
   ]
  },
  {
   "cell_type": "code",
   "execution_count": 2,
   "metadata": {},
   "outputs": [
    {
     "name": "stdout",
     "output_type": "stream",
     "text": [
      "Found 10000 files belonging to 10 classes.\n"
     ]
    }
   ],
   "source": [
    "from utils.datasets import dataset_generator\n",
    "test_ds = dataset_generator('/dataset/CIFAR10/test/')"
   ]
  },
  {
   "cell_type": "code",
   "execution_count": 3,
   "metadata": {},
   "outputs": [
    {
     "data": {
      "text/plain": [
       "'\\nheic_file() {\\n\\n     file_magic                                                  u(32)\\n\\n     pixel_format                                                u(3)\\n     alpha1_flag                                                 u(1)\\n     bit_depth_minus_8                                           u(4)\\n\\n     color_space                                                 u(4)\\n     extension_present_flag                                      u(1)\\n     alpha2_flag                                                 u(1)\\n     limited_range_flag                                          u(1)\\n     animation_flag                                              u(1)\\n     \\n     picture_width                                               ue7(32)\\n     picture_height                                              ue7(32)\\n     \\n     picture_data_length                                         ue7(32)\\n     if (extension_present_flag)  \\n         extension_data_length                                   ue7(32)\\n         extension_data()\\n     }\\n\\n     hevc_header_and_data()\\n}\\n\\nHeader: maximum 22 Bytes\\n'"
      ]
     },
     "execution_count": 3,
     "metadata": {},
     "output_type": "execute_result"
    }
   ],
   "source": [
    "'''\n",
    "heic_file() {\n",
    "\n",
    "     file_magic                                                  u(32)\n",
    "\n",
    "     pixel_format                                                u(3)\n",
    "     alpha1_flag                                                 u(1)\n",
    "     bit_depth_minus_8                                           u(4)\n",
    "\n",
    "     color_space                                                 u(4)\n",
    "     extension_present_flag                                      u(1)\n",
    "     alpha2_flag                                                 u(1)\n",
    "     limited_range_flag                                          u(1)\n",
    "     animation_flag                                              u(1)\n",
    "     \n",
    "     picture_width                                               ue7(32)\n",
    "     picture_height                                              ue7(32)\n",
    "     \n",
    "     picture_data_length                                         ue7(32)\n",
    "     if (extension_present_flag)  \n",
    "         extension_data_length                                   ue7(32)\n",
    "         extension_data()\n",
    "     }\n",
    "\n",
    "     hevc_header_and_data()\n",
    "}\n",
    "\n",
    "Header: maximum 22 Bytes\n",
    "'''"
   ]
  },
  {
   "cell_type": "code",
   "execution_count": 4,
   "metadata": {},
   "outputs": [],
   "source": [
    "class BPGEncoder():\n",
    "    def __init__(self, working_directory='./analysis/temp'):\n",
    "        '''\n",
    "        working_directory: directory to save temp files\n",
    "                           do not include '/' in the end\n",
    "        '''\n",
    "        self.working_directory = working_directory\n",
    "    \n",
    "    def run_bpgenc(self, qp, input_dir, output_dir='temp.bpg'):\n",
    "        if os.path.exists(output_dir):\n",
    "            os.remove(output_dir)\n",
    "        os.system(f'bpgenc {input_dir} -q {qp} -o {output_dir} -f 444')\n",
    "\n",
    "        if os.path.exists(output_dir):\n",
    "            return os.path.getsize(output_dir)\n",
    "        else:\n",
    "            return -1\n",
    "    \n",
    "    def get_qp(self, input_dir, byte_threshold, output_dir='temp.bpg'):\n",
    "        '''\n",
    "        iteratively finds quality parameter that maximizes quality given the byte_threshold constraint\n",
    "        '''\n",
    "        # rate-match algorithm\n",
    "        quality_max = 51\n",
    "        quality_min = 0\n",
    "        quality = (quality_max - quality_min) // 2\n",
    "        \n",
    "        while True:\n",
    "            qp = 51 - quality\n",
    "            bytes = self.run_bpgenc(qp, input_dir, output_dir)\n",
    "            if quality == 0 or quality == quality_min or quality == quality_max:\n",
    "                break\n",
    "            elif bytes > byte_threshold and quality_min != quality - 1:\n",
    "                quality_max = quality\n",
    "                quality -= (quality - quality_min) // 2\n",
    "            elif bytes > byte_threshold and quality_min == quality - 1:\n",
    "                quality_max = quality\n",
    "                quality -= 1\n",
    "            elif bytes < byte_threshold and quality_max > quality:\n",
    "                quality_min = quality\n",
    "                quality += (quality_max - quality) // 2\n",
    "            else:\n",
    "                break\n",
    "        \n",
    "        return qp\n",
    "    \n",
    "    def encode(self, image_array, max_bytes, header_bytes=22):\n",
    "        '''\n",
    "        image_array: uint8 numpy array with shape (b, h, w, c)\n",
    "        max_bytes: int, maximum bytes of the encoded image file (exlcuding header bytes)\n",
    "        header_bytes: the size of BPG header bytes (to be excluded in image file size calculation)\n",
    "        '''\n",
    "\n",
    "        input_dir = f'{self.working_directory}/temp_enc.png'\n",
    "        output_dir = f'{self.working_directory}/temp_enc.bpg'\n",
    "\n",
    "        im = Image.fromarray(image_array, 'RGB')\n",
    "        im.save(input_dir)\n",
    "\n",
    "        qp = self.get_qp(input_dir, max_bytes + header_bytes, output_dir)\n",
    "        \n",
    "        if self.run_bpgenc(qp, input_dir, output_dir) < 0:\n",
    "            raise RuntimeError(\"BPG encoding failed\")\n",
    "\n",
    "        # read binary and convert it to numpy binary array with float dtype\n",
    "        return np.unpackbits(np.fromfile(output_dir, dtype=np.uint8)).astype(np.float32)\n"
   ]
  },
  {
   "cell_type": "code",
   "execution_count": 5,
   "metadata": {},
   "outputs": [],
   "source": [
    "class LDPCTransmitter():\n",
    "    '''\n",
    "    Transmits given bits (float array of '0' and '1') with LDPC.\n",
    "    '''\n",
    "    def __init__(self, k, n, m, esno_db, channel='AWGN'):\n",
    "        '''\n",
    "        k: data bits per codeword (in LDPC)\n",
    "        n: total codeword bits (in LDPC)\n",
    "        m: modulation order (in m-QAM)\n",
    "        esno_db: channel SNR\n",
    "        channel: 'AWGN' or 'Rayleigh'\n",
    "        '''\n",
    "        self.k = k\n",
    "        self.n = n\n",
    "        self.num_bits_per_symbol = round(math.log2(m))\n",
    "\n",
    "        constellation_type = 'qam' if m != 2 else 'pam'\n",
    "        self.constellation = Constellation(constellation_type, num_bits_per_symbol=self.num_bits_per_symbol)\n",
    "        self.mapper = Mapper(constellation=self.constellation)\n",
    "        self.demapper = Demapper('app', constellation=self.constellation)\n",
    "        self.channel = AWGN() if channel == 'AWGN' else FlatFadingChannel\n",
    "        self.encoder = LDPC5GEncoder(k=self.k, n=self.n)\n",
    "        self.decoder = LDPC5GDecoder(self.encoder, num_iter=20)\n",
    "        self.esno_db = esno_db\n",
    "    \n",
    "\n",
    "    def send(self, source_bits):\n",
    "        '''\n",
    "        source_bits: float np array of '0' and '1', whose total # of bits is divisible with k\n",
    "        '''\n",
    "        lcm = np.lcm(self.k, self.num_bits_per_symbol)\n",
    "        source_bits_pad = tf.pad(source_bits, [[0, math.ceil(len(source_bits)/lcm)*lcm - len(source_bits)]])\n",
    "        u = np.reshape(source_bits_pad, (-1, self.k))\n",
    "\n",
    "        no = ebnodb2no(self.esno_db, num_bits_per_symbol=1, coderate=1)\n",
    "        c = self.encoder(u)\n",
    "        x = self.mapper(c)\n",
    "        y = self.channel([x, no])\n",
    "        llr_ch = self.demapper([y, no])\n",
    "        u_hat = self.decoder(llr_ch)\n",
    "\n",
    "        return tf.reshape(u_hat, (-1))[:len(source_bits)]"
   ]
  },
  {
   "cell_type": "code",
   "execution_count": 6,
   "metadata": {},
   "outputs": [],
   "source": [
    "class BPGDecoder():\n",
    "    def __init__(self, working_directory='./analysis/temp'):\n",
    "        '''\n",
    "        working_directory: directory to save temp files\n",
    "                           do not include '/' in the end\n",
    "        '''\n",
    "        self.working_directory = working_directory\n",
    "    \n",
    "    def run_bpgdec(self, input_dir, output_dir='temp.png'):\n",
    "        if os.path.exists(output_dir):\n",
    "            os.remove(output_dir)\n",
    "        os.system(f'bpgdec {input_dir} -o {output_dir}')\n",
    "\n",
    "        if os.path.exists(output_dir):\n",
    "            return os.path.getsize(output_dir)\n",
    "        else:\n",
    "            return -1\n",
    "\n",
    "    def decode(self, bit_array, image_shape):\n",
    "        '''\n",
    "        returns decoded result of given bit_array.\n",
    "        if bit_array is not decodable, then returns the mean CIFAR-10 pixel values.\n",
    "\n",
    "        byte_array: float array of '0' and '1'\n",
    "        image_shape: used to generate image with mean pixel values if the given byte_array is not decodable\n",
    "        '''\n",
    "        input_dir = f'{self.working_directory}/temp_dec.bpg'\n",
    "        output_dir = f'{self.working_directory}/temp_dec.png'\n",
    "\n",
    "        byte_array = np.packbits(bit_array.astype(np.uint8))\n",
    "        with open(input_dir, \"wb\") as binary_file:\n",
    "            binary_file.write(byte_array.tobytes())\n",
    "\n",
    "        cifar_mean = np.array([0.4913997551666284, 0.48215855929893703, 0.4465309133731618]) * 255\n",
    "        cifar_mean = np.reshape(cifar_mean, [1] * (len(image_shape) - 1) + [3]).astype(np.uint8)\n",
    "\n",
    "        if self.run_bpgdec(input_dir, output_dir) < 0:\n",
    "            # print('warning: Decode failed. Returning mean pixel value')\n",
    "            return 0 * np.ones(image_shape) + cifar_mean\n",
    "        else:\n",
    "            x = np.array(Image.open(output_dir).convert('RGB'))\n",
    "            if x.shape != image_shape:\n",
    "                return 0 * np.ones(image_shape) + cifar_mean\n",
    "            return x\n"
   ]
  },
  {
   "cell_type": "code",
   "execution_count": 43,
   "metadata": {},
   "outputs": [
    {
     "data": {
      "application/vnd.jupyter.widget-view+json": {
       "model_id": "3e9c9289beda4aa5b64d4e20a5a688e9",
       "version_major": 2,
       "version_minor": 0
      },
      "text/plain": [
       "  0%|          | 0/10 [00:00<?, ?it/s]"
      ]
     },
     "metadata": {},
     "output_type": "display_data"
    },
    {
     "name": "stdout",
     "output_type": "stream",
     "text": [
      "SNR=0,bw=0.08333333333333333,k=3072,n=6144,m=2,PSNR=19.58,SSIM=0.59\n"
     ]
    },
    {
     "data": {
      "application/vnd.jupyter.widget-view+json": {
       "model_id": "608349b3eab0496a9706a9c5359b90ae",
       "version_major": 2,
       "version_minor": 0
      },
      "text/plain": [
       "  0%|          | 0/10 [00:00<?, ?it/s]"
      ]
     },
     "metadata": {},
     "output_type": "display_data"
    },
    {
     "name": "stderr",
     "output_type": "stream",
     "text": [
      "Could not decode image\n",
      "Could not decode image\n",
      "Could not decode image\n",
      "Could not decode image\n",
      "Could not decode image\n",
      "Could not decode image\n",
      "Could not decode image\n",
      "Could not decode image\n",
      "Could not decode image\n",
      "Could not decode image\n"
     ]
    },
    {
     "name": "stdout",
     "output_type": "stream",
     "text": [
      "SNR=0,bw=0.08333333333333333,k=3072,n=6144,m=4,PSNR=6.57,SSIM=0.12\n"
     ]
    },
    {
     "data": {
      "application/vnd.jupyter.widget-view+json": {
       "model_id": "c16bff9738cf40619f5ca870f4b7088a",
       "version_major": 2,
       "version_minor": 0
      },
      "text/plain": [
       "  0%|          | 0/10 [00:00<?, ?it/s]"
      ]
     },
     "metadata": {},
     "output_type": "display_data"
    },
    {
     "name": "stderr",
     "output_type": "stream",
     "text": [
      "Could not decode image\n",
      "Could not decode image\n",
      "Could not decode image\n",
      "Could not decode image\n",
      "Could not decode image\n",
      "Could not decode image\n",
      "Could not decode image\n",
      "Could not decode image\n",
      "Could not decode image\n",
      "Could not decode image\n"
     ]
    },
    {
     "name": "stdout",
     "output_type": "stream",
     "text": [
      "SNR=0,bw=0.08333333333333333,k=3072,n=6144,m=16,PSNR=6.57,SSIM=0.12\n"
     ]
    },
    {
     "data": {
      "application/vnd.jupyter.widget-view+json": {
       "model_id": "65116e732ba0405fa6e3ca666f026f40",
       "version_major": 2,
       "version_minor": 0
      },
      "text/plain": [
       "  0%|          | 0/10 [00:00<?, ?it/s]"
      ]
     },
     "metadata": {},
     "output_type": "display_data"
    },
    {
     "name": "stderr",
     "output_type": "stream",
     "text": [
      "Could not decode image\n",
      "Could not decode image\n",
      "Could not decode image\n",
      "Could not decode image\n",
      "Could not decode image\n",
      "Could not decode image\n",
      "Could not decode image\n",
      "Could not decode image\n",
      "Could not decode image\n"
     ]
    },
    {
     "name": "stdout",
     "output_type": "stream",
     "text": [
      "SNR=0,bw=0.08333333333333333,k=3072,n=6144,m=64,PSNR=6.57,SSIM=0.12\n"
     ]
    },
    {
     "name": "stderr",
     "output_type": "stream",
     "text": [
      "Could not decode image\n"
     ]
    },
    {
     "data": {
      "application/vnd.jupyter.widget-view+json": {
       "model_id": "de7c3fec1c044783a022d78679dae994",
       "version_major": 2,
       "version_minor": 0
      },
      "text/plain": [
       "  0%|          | 0/10 [00:00<?, ?it/s]"
      ]
     },
     "metadata": {},
     "output_type": "display_data"
    },
    {
     "name": "stderr",
     "output_type": "stream",
     "text": [
      "Could not decode image\n"
     ]
    },
    {
     "name": "stdout",
     "output_type": "stream",
     "text": [
      "SNR=0,bw=0.08333333333333333,k=3072,n=4608,m=2,PSNR=7.14,SSIM=0.07\n"
     ]
    },
    {
     "name": "stderr",
     "output_type": "stream",
     "text": [
      "Could not decode image\n"
     ]
    },
    {
     "data": {
      "application/vnd.jupyter.widget-view+json": {
       "model_id": "048d9beabce946b080c372d1c613017a",
       "version_major": 2,
       "version_minor": 0
      },
      "text/plain": [
       "  0%|          | 0/10 [00:00<?, ?it/s]"
      ]
     },
     "metadata": {},
     "output_type": "display_data"
    },
    {
     "name": "stderr",
     "output_type": "stream",
     "text": [
      "Could not decode image\n",
      "Could not decode image\n",
      "Could not decode image\n",
      "Could not decode image\n",
      "Could not decode image\n",
      "Could not decode image\n",
      "Could not decode image\n",
      "Could not decode image\n",
      "Could not decode image\n"
     ]
    },
    {
     "name": "stdout",
     "output_type": "stream",
     "text": [
      "SNR=0,bw=0.08333333333333333,k=3072,n=4608,m=4,PSNR=6.57,SSIM=0.12\n"
     ]
    },
    {
     "name": "stderr",
     "output_type": "stream",
     "text": [
      "Could not decode image\n"
     ]
    },
    {
     "data": {
      "application/vnd.jupyter.widget-view+json": {
       "model_id": "25e2aec1621c464b8abdebb263ea3501",
       "version_major": 2,
       "version_minor": 0
      },
      "text/plain": [
       "  0%|          | 0/10 [00:00<?, ?it/s]"
      ]
     },
     "metadata": {},
     "output_type": "display_data"
    },
    {
     "name": "stderr",
     "output_type": "stream",
     "text": [
      "Could not decode image\n",
      "Could not decode image\n",
      "Could not decode image\n",
      "Could not decode image\n",
      "Could not decode image\n",
      "Could not decode image\n",
      "Could not decode image\n",
      "Could not decode image\n",
      "Could not decode image\n",
      "Could not decode image\n"
     ]
    },
    {
     "name": "stdout",
     "output_type": "stream",
     "text": [
      "SNR=0,bw=0.08333333333333333,k=3072,n=4608,m=16,PSNR=6.57,SSIM=0.12\n"
     ]
    },
    {
     "data": {
      "application/vnd.jupyter.widget-view+json": {
       "model_id": "1836c54d7f95410ab2a7652bcf5dddca",
       "version_major": 2,
       "version_minor": 0
      },
      "text/plain": [
       "  0%|          | 0/10 [00:00<?, ?it/s]"
      ]
     },
     "metadata": {},
     "output_type": "display_data"
    },
    {
     "name": "stderr",
     "output_type": "stream",
     "text": [
      "Could not decode image\n",
      "Could not decode image\n",
      "Could not decode image\n",
      "Could not decode image\n",
      "Could not decode image\n",
      "Could not decode image\n",
      "Could not decode image\n",
      "Could not decode image\n",
      "Could not decode image\n"
     ]
    },
    {
     "name": "stdout",
     "output_type": "stream",
     "text": [
      "SNR=0,bw=0.08333333333333333,k=3072,n=4608,m=64,PSNR=6.57,SSIM=0.12\n"
     ]
    },
    {
     "name": "stderr",
     "output_type": "stream",
     "text": [
      "Could not decode image\n"
     ]
    },
    {
     "data": {
      "application/vnd.jupyter.widget-view+json": {
       "model_id": "9e52ab76713544c3a3f753cbf7c144d2",
       "version_major": 2,
       "version_minor": 0
      },
      "text/plain": [
       "  0%|          | 0/10 [00:00<?, ?it/s]"
      ]
     },
     "metadata": {},
     "output_type": "display_data"
    },
    {
     "name": "stdout",
     "output_type": "stream",
     "text": [
      "SNR=0,bw=0.08333333333333333,k=1536,n=4608,m=2,PSNR=19.59,SSIM=0.59\n"
     ]
    },
    {
     "data": {
      "application/vnd.jupyter.widget-view+json": {
       "model_id": "d817b59802744b289bd57b742dacb46b",
       "version_major": 2,
       "version_minor": 0
      },
      "text/plain": [
       "  0%|          | 0/10 [00:00<?, ?it/s]"
      ]
     },
     "metadata": {},
     "output_type": "display_data"
    },
    {
     "name": "stdout",
     "output_type": "stream",
     "text": [
      "SNR=0,bw=0.08333333333333333,k=1536,n=4608,m=4,PSNR=20.05,SSIM=0.62\n"
     ]
    },
    {
     "data": {
      "application/vnd.jupyter.widget-view+json": {
       "model_id": "02117b64ced047e080e5a46420bec690",
       "version_major": 2,
       "version_minor": 0
      },
      "text/plain": [
       "  0%|          | 0/10 [00:00<?, ?it/s]"
      ]
     },
     "metadata": {},
     "output_type": "display_data"
    },
    {
     "name": "stderr",
     "output_type": "stream",
     "text": [
      "Could not decode image\n",
      "Could not decode image\n",
      "Could not decode image\n",
      "Could not decode image\n",
      "Could not decode image\n",
      "Could not decode image\n",
      "Could not decode image\n",
      "Could not decode image\n",
      "Could not decode image\n"
     ]
    },
    {
     "name": "stdout",
     "output_type": "stream",
     "text": [
      "SNR=0,bw=0.08333333333333333,k=1536,n=4608,m=16,PSNR=6.57,SSIM=0.12\n"
     ]
    },
    {
     "name": "stderr",
     "output_type": "stream",
     "text": [
      "Could not decode image\n"
     ]
    },
    {
     "data": {
      "application/vnd.jupyter.widget-view+json": {
       "model_id": "f1ac486cb6714327abc7874658ebdd90",
       "version_major": 2,
       "version_minor": 0
      },
      "text/plain": [
       "  0%|          | 0/10 [00:00<?, ?it/s]"
      ]
     },
     "metadata": {},
     "output_type": "display_data"
    },
    {
     "name": "stderr",
     "output_type": "stream",
     "text": [
      "Could not decode image\n",
      "Could not decode image\n",
      "Could not decode image\n",
      "Could not decode image\n",
      "Could not decode image\n",
      "Could not decode image\n",
      "Could not decode image\n",
      "Could not decode image\n",
      "Could not decode image\n",
      "Could not decode image\n"
     ]
    },
    {
     "name": "stdout",
     "output_type": "stream",
     "text": [
      "SNR=0,bw=0.08333333333333333,k=1536,n=4608,m=64,PSNR=6.57,SSIM=0.12\n"
     ]
    },
    {
     "data": {
      "application/vnd.jupyter.widget-view+json": {
       "model_id": "76ede3fe8c2344acb111891f5f3f37bd",
       "version_major": 2,
       "version_minor": 0
      },
      "text/plain": [
       "  0%|          | 0/10 [00:00<?, ?it/s]"
      ]
     },
     "metadata": {},
     "output_type": "display_data"
    },
    {
     "name": "stdout",
     "output_type": "stream",
     "text": [
      "SNR=0,bw=0.16666666666666666,k=3072,n=6144,m=2,PSNR=21.66,SSIM=0.72\n"
     ]
    },
    {
     "data": {
      "application/vnd.jupyter.widget-view+json": {
       "model_id": "0145103bf3574ba684f88222c7133c55",
       "version_major": 2,
       "version_minor": 0
      },
      "text/plain": [
       "  0%|          | 0/10 [00:00<?, ?it/s]"
      ]
     },
     "metadata": {},
     "output_type": "display_data"
    },
    {
     "name": "stderr",
     "output_type": "stream",
     "text": [
      "Could not decode image\n",
      "Could not decode image\n",
      "Could not decode image\n",
      "Could not decode image\n",
      "Could not decode image\n",
      "Could not decode image\n",
      "Could not decode image\n",
      "Could not decode image\n",
      "Could not decode image\n",
      "Could not decode image\n"
     ]
    },
    {
     "name": "stdout",
     "output_type": "stream",
     "text": [
      "SNR=0,bw=0.16666666666666666,k=3072,n=6144,m=4,PSNR=6.57,SSIM=0.12\n"
     ]
    },
    {
     "data": {
      "application/vnd.jupyter.widget-view+json": {
       "model_id": "2f69c9b96bee40e9b0dfa6129fc743a5",
       "version_major": 2,
       "version_minor": 0
      },
      "text/plain": [
       "  0%|          | 0/10 [00:00<?, ?it/s]"
      ]
     },
     "metadata": {},
     "output_type": "display_data"
    },
    {
     "name": "stderr",
     "output_type": "stream",
     "text": [
      "Could not decode image\n",
      "Could not decode image\n",
      "Could not decode image\n",
      "Could not decode image\n",
      "Could not decode image\n",
      "Could not decode image\n",
      "Could not decode image\n",
      "Could not decode image\n",
      "Could not decode image\n",
      "Could not decode image\n"
     ]
    },
    {
     "name": "stdout",
     "output_type": "stream",
     "text": [
      "SNR=0,bw=0.16666666666666666,k=3072,n=6144,m=16,PSNR=6.57,SSIM=0.12\n"
     ]
    },
    {
     "data": {
      "application/vnd.jupyter.widget-view+json": {
       "model_id": "3aa38b6f65ed4ccabc1c14b9aaa5618a",
       "version_major": 2,
       "version_minor": 0
      },
      "text/plain": [
       "  0%|          | 0/10 [00:00<?, ?it/s]"
      ]
     },
     "metadata": {},
     "output_type": "display_data"
    },
    {
     "name": "stderr",
     "output_type": "stream",
     "text": [
      "Could not decode image\n",
      "Could not decode image\n",
      "Could not decode image\n",
      "Could not decode image\n",
      "Could not decode image\n",
      "Could not decode image\n",
      "Could not decode image\n",
      "Could not decode image\n",
      "Could not decode image\n"
     ]
    },
    {
     "name": "stdout",
     "output_type": "stream",
     "text": [
      "SNR=0,bw=0.16666666666666666,k=3072,n=6144,m=64,PSNR=6.57,SSIM=0.12\n"
     ]
    },
    {
     "name": "stderr",
     "output_type": "stream",
     "text": [
      "Could not decode image\n"
     ]
    },
    {
     "data": {
      "application/vnd.jupyter.widget-view+json": {
       "model_id": "c8f2507c051e420e971555f2a2bef6da",
       "version_major": 2,
       "version_minor": 0
      },
      "text/plain": [
       "  0%|          | 0/10 [00:00<?, ?it/s]"
      ]
     },
     "metadata": {},
     "output_type": "display_data"
    },
    {
     "name": "stderr",
     "output_type": "stream",
     "text": [
      "Could not decode image\n",
      "Could not decode image\n"
     ]
    },
    {
     "name": "stdout",
     "output_type": "stream",
     "text": [
      "SNR=0,bw=0.16666666666666666,k=3072,n=4608,m=2,PSNR=7.02,SSIM=0.07\n"
     ]
    },
    {
     "data": {
      "application/vnd.jupyter.widget-view+json": {
       "model_id": "49f0743450c341238195b6305cadcc67",
       "version_major": 2,
       "version_minor": 0
      },
      "text/plain": [
       "  0%|          | 0/10 [00:00<?, ?it/s]"
      ]
     },
     "metadata": {},
     "output_type": "display_data"
    },
    {
     "name": "stderr",
     "output_type": "stream",
     "text": [
      "Could not decode image\n",
      "Could not decode image\n",
      "Could not decode image\n",
      "Could not decode image\n",
      "Could not decode image\n",
      "Could not decode image\n",
      "Could not decode image\n",
      "Could not decode image\n",
      "Could not decode image\n",
      "Could not decode image\n"
     ]
    },
    {
     "name": "stdout",
     "output_type": "stream",
     "text": [
      "SNR=0,bw=0.16666666666666666,k=3072,n=4608,m=4,PSNR=6.57,SSIM=0.12\n"
     ]
    },
    {
     "data": {
      "application/vnd.jupyter.widget-view+json": {
       "model_id": "d5b88a3303e14981966c24582cf7945b",
       "version_major": 2,
       "version_minor": 0
      },
      "text/plain": [
       "  0%|          | 0/10 [00:00<?, ?it/s]"
      ]
     },
     "metadata": {},
     "output_type": "display_data"
    },
    {
     "name": "stderr",
     "output_type": "stream",
     "text": [
      "Could not decode image\n",
      "Could not decode image\n",
      "Could not decode image\n",
      "Could not decode image\n",
      "Could not decode image\n",
      "Could not decode image\n",
      "Could not decode image\n",
      "Could not decode image\n",
      "Could not decode image\n",
      "Could not decode image\n"
     ]
    },
    {
     "name": "stdout",
     "output_type": "stream",
     "text": [
      "SNR=0,bw=0.16666666666666666,k=3072,n=4608,m=16,PSNR=6.57,SSIM=0.12\n"
     ]
    },
    {
     "data": {
      "application/vnd.jupyter.widget-view+json": {
       "model_id": "7febaea90d2b4d8899ef64ad13475f82",
       "version_major": 2,
       "version_minor": 0
      },
      "text/plain": [
       "  0%|          | 0/10 [00:00<?, ?it/s]"
      ]
     },
     "metadata": {},
     "output_type": "display_data"
    },
    {
     "name": "stderr",
     "output_type": "stream",
     "text": [
      "Could not decode image\n",
      "Could not decode image\n",
      "Could not decode image\n",
      "Could not decode image\n",
      "Could not decode image\n",
      "Could not decode image\n",
      "Could not decode image\n",
      "Could not decode image\n",
      "Could not decode image\n",
      "Could not decode image\n"
     ]
    },
    {
     "name": "stdout",
     "output_type": "stream",
     "text": [
      "SNR=0,bw=0.16666666666666666,k=3072,n=4608,m=64,PSNR=6.57,SSIM=0.12\n"
     ]
    },
    {
     "data": {
      "application/vnd.jupyter.widget-view+json": {
       "model_id": "db36135ce3cb4589a160391613991989",
       "version_major": 2,
       "version_minor": 0
      },
      "text/plain": [
       "  0%|          | 0/10 [00:00<?, ?it/s]"
      ]
     },
     "metadata": {},
     "output_type": "display_data"
    },
    {
     "name": "stdout",
     "output_type": "stream",
     "text": [
      "SNR=0,bw=0.16666666666666666,k=1536,n=4608,m=2,PSNR=20.06,SSIM=0.62\n"
     ]
    },
    {
     "data": {
      "application/vnd.jupyter.widget-view+json": {
       "model_id": "983101ab2b534231b0b019d616532c97",
       "version_major": 2,
       "version_minor": 0
      },
      "text/plain": [
       "  0%|          | 0/10 [00:00<?, ?it/s]"
      ]
     },
     "metadata": {},
     "output_type": "display_data"
    },
    {
     "name": "stdout",
     "output_type": "stream",
     "text": [
      "SNR=0,bw=0.16666666666666666,k=1536,n=4608,m=4,PSNR=22.32,SSIM=0.75\n"
     ]
    },
    {
     "data": {
      "application/vnd.jupyter.widget-view+json": {
       "model_id": "ad602ae4de9343e18d89d706c1449bf3",
       "version_major": 2,
       "version_minor": 0
      },
      "text/plain": [
       "  0%|          | 0/10 [00:00<?, ?it/s]"
      ]
     },
     "metadata": {},
     "output_type": "display_data"
    },
    {
     "name": "stderr",
     "output_type": "stream",
     "text": [
      "Could not decode image\n",
      "Could not decode image\n",
      "Could not decode image\n",
      "Could not decode image\n",
      "Could not decode image\n",
      "Could not decode image\n",
      "Could not decode image\n",
      "Could not decode image\n",
      "Could not decode image\n",
      "Could not decode image\n"
     ]
    },
    {
     "name": "stdout",
     "output_type": "stream",
     "text": [
      "SNR=0,bw=0.16666666666666666,k=1536,n=4608,m=16,PSNR=6.57,SSIM=0.12\n"
     ]
    },
    {
     "data": {
      "application/vnd.jupyter.widget-view+json": {
       "model_id": "dc13b74a040b4b5297a23820dec9d76c",
       "version_major": 2,
       "version_minor": 0
      },
      "text/plain": [
       "  0%|          | 0/10 [00:00<?, ?it/s]"
      ]
     },
     "metadata": {},
     "output_type": "display_data"
    },
    {
     "name": "stderr",
     "output_type": "stream",
     "text": [
      "Could not decode image\n",
      "Could not decode image\n",
      "Could not decode image\n",
      "Could not decode image\n",
      "Could not decode image\n",
      "Could not decode image\n",
      "Could not decode image\n",
      "Could not decode image\n",
      "Could not decode image\n",
      "Could not decode image\n"
     ]
    },
    {
     "name": "stdout",
     "output_type": "stream",
     "text": [
      "SNR=0,bw=0.16666666666666666,k=1536,n=4608,m=64,PSNR=6.57,SSIM=0.12\n"
     ]
    },
    {
     "data": {
      "application/vnd.jupyter.widget-view+json": {
       "model_id": "265e34fa1a63439198566a4c916dd0ff",
       "version_major": 2,
       "version_minor": 0
      },
      "text/plain": [
       "  0%|          | 0/10 [00:00<?, ?it/s]"
      ]
     },
     "metadata": {},
     "output_type": "display_data"
    },
    {
     "name": "stdout",
     "output_type": "stream",
     "text": [
      "SNR=0,bw=0.25,k=3072,n=6144,m=2,PSNR=22.87,SSIM=0.77\n"
     ]
    },
    {
     "data": {
      "application/vnd.jupyter.widget-view+json": {
       "model_id": "0d8d9fdb26644e9ca2e5c87adc5f89d8",
       "version_major": 2,
       "version_minor": 0
      },
      "text/plain": [
       "  0%|          | 0/10 [00:00<?, ?it/s]"
      ]
     },
     "metadata": {},
     "output_type": "display_data"
    },
    {
     "name": "stderr",
     "output_type": "stream",
     "text": [
      "Could not decode image\n",
      "Could not decode image\n",
      "Could not decode image\n",
      "Could not decode image\n",
      "Could not decode image\n",
      "Could not decode image\n",
      "Could not decode image\n",
      "Could not decode image\n",
      "Could not decode image\n",
      "Could not decode image\n"
     ]
    },
    {
     "name": "stdout",
     "output_type": "stream",
     "text": [
      "SNR=0,bw=0.25,k=3072,n=6144,m=4,PSNR=6.57,SSIM=0.12\n"
     ]
    },
    {
     "data": {
      "application/vnd.jupyter.widget-view+json": {
       "model_id": "6442a4a04ef444bf8339487859baadeb",
       "version_major": 2,
       "version_minor": 0
      },
      "text/plain": [
       "  0%|          | 0/10 [00:00<?, ?it/s]"
      ]
     },
     "metadata": {},
     "output_type": "display_data"
    },
    {
     "name": "stderr",
     "output_type": "stream",
     "text": [
      "Could not decode image\n",
      "Could not decode image\n",
      "Could not decode image\n",
      "Could not decode image\n",
      "Could not decode image\n",
      "Could not decode image\n",
      "Could not decode image\n",
      "Could not decode image\n",
      "Could not decode image\n",
      "Could not decode image\n"
     ]
    },
    {
     "name": "stdout",
     "output_type": "stream",
     "text": [
      "SNR=0,bw=0.25,k=3072,n=6144,m=16,PSNR=6.57,SSIM=0.12\n"
     ]
    },
    {
     "data": {
      "application/vnd.jupyter.widget-view+json": {
       "model_id": "626e1334c356444d8a42939da2d58ab1",
       "version_major": 2,
       "version_minor": 0
      },
      "text/plain": [
       "  0%|          | 0/10 [00:00<?, ?it/s]"
      ]
     },
     "metadata": {},
     "output_type": "display_data"
    },
    {
     "name": "stderr",
     "output_type": "stream",
     "text": [
      "Could not decode image\n",
      "Could not decode image\n",
      "Could not decode image\n",
      "Could not decode image\n",
      "Could not decode image\n",
      "Could not decode image\n",
      "Could not decode image\n",
      "Could not decode image\n",
      "Could not decode image\n"
     ]
    },
    {
     "name": "stdout",
     "output_type": "stream",
     "text": [
      "SNR=0,bw=0.25,k=3072,n=6144,m=64,PSNR=6.57,SSIM=0.12\n"
     ]
    },
    {
     "name": "stderr",
     "output_type": "stream",
     "text": [
      "Could not decode image\n"
     ]
    },
    {
     "data": {
      "application/vnd.jupyter.widget-view+json": {
       "model_id": "59efc57cc2c34a70bd410ad9a76cfcdc",
       "version_major": 2,
       "version_minor": 0
      },
      "text/plain": [
       "  0%|          | 0/10 [00:00<?, ?it/s]"
      ]
     },
     "metadata": {},
     "output_type": "display_data"
    },
    {
     "name": "stderr",
     "output_type": "stream",
     "text": [
      "Could not decode image\n"
     ]
    },
    {
     "name": "stdout",
     "output_type": "stream",
     "text": [
      "SNR=0,bw=0.25,k=3072,n=4608,m=2,PSNR=7.32,SSIM=0.07\n"
     ]
    },
    {
     "name": "stderr",
     "output_type": "stream",
     "text": [
      "Could not decode image\n"
     ]
    },
    {
     "data": {
      "application/vnd.jupyter.widget-view+json": {
       "model_id": "d7801ffcf5f64e0fa1368f1a3e169609",
       "version_major": 2,
       "version_minor": 0
      },
      "text/plain": [
       "  0%|          | 0/10 [00:00<?, ?it/s]"
      ]
     },
     "metadata": {},
     "output_type": "display_data"
    },
    {
     "name": "stderr",
     "output_type": "stream",
     "text": [
      "Could not decode image\n",
      "Could not decode image\n",
      "Could not decode image\n",
      "Could not decode image\n",
      "Could not decode image\n",
      "Could not decode image\n",
      "Could not decode image\n",
      "Could not decode image\n",
      "Could not decode image\n"
     ]
    },
    {
     "name": "stdout",
     "output_type": "stream",
     "text": [
      "SNR=0,bw=0.25,k=3072,n=4608,m=4,PSNR=6.57,SSIM=0.12\n"
     ]
    },
    {
     "name": "stderr",
     "output_type": "stream",
     "text": [
      "Could not decode image\n"
     ]
    },
    {
     "data": {
      "application/vnd.jupyter.widget-view+json": {
       "model_id": "b1763053f54a4d84afc796280f9d6677",
       "version_major": 2,
       "version_minor": 0
      },
      "text/plain": [
       "  0%|          | 0/10 [00:00<?, ?it/s]"
      ]
     },
     "metadata": {},
     "output_type": "display_data"
    },
    {
     "name": "stderr",
     "output_type": "stream",
     "text": [
      "Could not decode image\n",
      "Could not decode image\n",
      "Could not decode image\n",
      "Could not decode image\n",
      "Could not decode image\n",
      "Could not decode image\n",
      "Could not decode image\n",
      "Could not decode image\n",
      "Could not decode image\n"
     ]
    },
    {
     "name": "stdout",
     "output_type": "stream",
     "text": [
      "SNR=0,bw=0.25,k=3072,n=4608,m=16,PSNR=6.57,SSIM=0.12\n"
     ]
    },
    {
     "name": "stderr",
     "output_type": "stream",
     "text": [
      "Could not decode image\n"
     ]
    },
    {
     "data": {
      "application/vnd.jupyter.widget-view+json": {
       "model_id": "ebbf83e32b054476827e06b005109ebd",
       "version_major": 2,
       "version_minor": 0
      },
      "text/plain": [
       "  0%|          | 0/10 [00:00<?, ?it/s]"
      ]
     },
     "metadata": {},
     "output_type": "display_data"
    },
    {
     "name": "stderr",
     "output_type": "stream",
     "text": [
      "Could not decode image\n",
      "Could not decode image\n",
      "Could not decode image\n",
      "Could not decode image\n",
      "Could not decode image\n",
      "Could not decode image\n",
      "Could not decode image\n",
      "Could not decode image\n",
      "Could not decode image\n"
     ]
    },
    {
     "name": "stdout",
     "output_type": "stream",
     "text": [
      "SNR=0,bw=0.25,k=3072,n=4608,m=64,PSNR=6.57,SSIM=0.12\n"
     ]
    },
    {
     "name": "stderr",
     "output_type": "stream",
     "text": [
      "Could not decode image\n"
     ]
    },
    {
     "data": {
      "application/vnd.jupyter.widget-view+json": {
       "model_id": "3fa45b6d73dc4a078e8d7325257bc9f2",
       "version_major": 2,
       "version_minor": 0
      },
      "text/plain": [
       "  0%|          | 0/10 [00:00<?, ?it/s]"
      ]
     },
     "metadata": {},
     "output_type": "display_data"
    },
    {
     "name": "stdout",
     "output_type": "stream",
     "text": [
      "SNR=0,bw=0.25,k=1536,n=4608,m=2,PSNR=21.60,SSIM=0.71\n"
     ]
    },
    {
     "data": {
      "application/vnd.jupyter.widget-view+json": {
       "model_id": "ffe562b21ab6413a86b3c0d3c76a7e92",
       "version_major": 2,
       "version_minor": 0
      },
      "text/plain": [
       "  0%|          | 0/10 [00:00<?, ?it/s]"
      ]
     },
     "metadata": {},
     "output_type": "display_data"
    },
    {
     "name": "stdout",
     "output_type": "stream",
     "text": [
      "SNR=0,bw=0.25,k=1536,n=4608,m=4,PSNR=24.13,SSIM=0.82\n"
     ]
    },
    {
     "data": {
      "application/vnd.jupyter.widget-view+json": {
       "model_id": "9e34f41f993a48418d782a60224b614d",
       "version_major": 2,
       "version_minor": 0
      },
      "text/plain": [
       "  0%|          | 0/10 [00:00<?, ?it/s]"
      ]
     },
     "metadata": {},
     "output_type": "display_data"
    },
    {
     "name": "stderr",
     "output_type": "stream",
     "text": [
      "Could not decode image\n",
      "Could not decode image\n",
      "Could not decode image\n",
      "Could not decode image\n",
      "Could not decode image\n",
      "Could not decode image\n",
      "Could not decode image\n",
      "Could not decode image\n",
      "Could not decode image\n"
     ]
    },
    {
     "name": "stdout",
     "output_type": "stream",
     "text": [
      "SNR=0,bw=0.25,k=1536,n=4608,m=16,PSNR=6.57,SSIM=0.12\n"
     ]
    },
    {
     "name": "stderr",
     "output_type": "stream",
     "text": [
      "Could not decode image\n"
     ]
    },
    {
     "data": {
      "application/vnd.jupyter.widget-view+json": {
       "model_id": "2b9d91620a8644039de1f8f91e0fde5c",
       "version_major": 2,
       "version_minor": 0
      },
      "text/plain": [
       "  0%|          | 0/10 [00:00<?, ?it/s]"
      ]
     },
     "metadata": {},
     "output_type": "display_data"
    },
    {
     "name": "stderr",
     "output_type": "stream",
     "text": [
      "Could not decode image\n",
      "Could not decode image\n",
      "Could not decode image\n",
      "Could not decode image\n",
      "Could not decode image\n",
      "Could not decode image\n",
      "Could not decode image\n",
      "Could not decode image\n",
      "Could not decode image\n",
      "Could not decode image\n"
     ]
    },
    {
     "name": "stdout",
     "output_type": "stream",
     "text": [
      "SNR=0,bw=0.25,k=1536,n=4608,m=64,PSNR=6.57,SSIM=0.12\n"
     ]
    },
    {
     "data": {
      "application/vnd.jupyter.widget-view+json": {
       "model_id": "7fdfef4d25b34983b8795cf8c6b2b82a",
       "version_major": 2,
       "version_minor": 0
      },
      "text/plain": [
       "  0%|          | 0/10 [00:00<?, ?it/s]"
      ]
     },
     "metadata": {},
     "output_type": "display_data"
    },
    {
     "name": "stdout",
     "output_type": "stream",
     "text": [
      "SNR=0,bw=0.3333333333333333,k=3072,n=6144,m=2,PSNR=24.14,SSIM=0.82\n"
     ]
    },
    {
     "data": {
      "application/vnd.jupyter.widget-view+json": {
       "model_id": "20501fdd37ec4f78a8a3075b404d4bfe",
       "version_major": 2,
       "version_minor": 0
      },
      "text/plain": [
       "  0%|          | 0/10 [00:00<?, ?it/s]"
      ]
     },
     "metadata": {},
     "output_type": "display_data"
    },
    {
     "name": "stderr",
     "output_type": "stream",
     "text": [
      "Could not decode image\n",
      "Could not decode image\n",
      "Could not decode image\n",
      "Could not decode image\n",
      "Could not decode image\n",
      "Could not decode image\n",
      "Could not decode image\n",
      "Could not decode image\n",
      "Could not decode image\n",
      "Could not decode image\n"
     ]
    },
    {
     "name": "stdout",
     "output_type": "stream",
     "text": [
      "SNR=0,bw=0.3333333333333333,k=3072,n=6144,m=4,PSNR=6.57,SSIM=0.12\n"
     ]
    },
    {
     "data": {
      "application/vnd.jupyter.widget-view+json": {
       "model_id": "027832fffc7b4cecbd4492c2f8337ab0",
       "version_major": 2,
       "version_minor": 0
      },
      "text/plain": [
       "  0%|          | 0/10 [00:00<?, ?it/s]"
      ]
     },
     "metadata": {},
     "output_type": "display_data"
    },
    {
     "name": "stderr",
     "output_type": "stream",
     "text": [
      "Could not decode image\n",
      "Could not decode image\n",
      "Could not decode image\n",
      "Could not decode image\n",
      "Could not decode image\n",
      "Could not decode image\n",
      "Could not decode image\n",
      "Could not decode image\n",
      "Could not decode image\n",
      "Could not decode image\n"
     ]
    },
    {
     "name": "stdout",
     "output_type": "stream",
     "text": [
      "SNR=0,bw=0.3333333333333333,k=3072,n=6144,m=16,PSNR=6.57,SSIM=0.12\n"
     ]
    },
    {
     "data": {
      "application/vnd.jupyter.widget-view+json": {
       "model_id": "2682ef9f3740448fa261a30e8a82cb58",
       "version_major": 2,
       "version_minor": 0
      },
      "text/plain": [
       "  0%|          | 0/10 [00:00<?, ?it/s]"
      ]
     },
     "metadata": {},
     "output_type": "display_data"
    },
    {
     "name": "stderr",
     "output_type": "stream",
     "text": [
      "Could not decode image\n",
      "Could not decode image\n",
      "Could not decode image\n",
      "Could not decode image\n",
      "Could not decode image\n",
      "Could not decode image\n",
      "Could not decode image\n",
      "Could not decode image\n",
      "Could not decode image\n",
      "Could not decode image\n"
     ]
    },
    {
     "name": "stdout",
     "output_type": "stream",
     "text": [
      "SNR=0,bw=0.3333333333333333,k=3072,n=6144,m=64,PSNR=6.57,SSIM=0.12\n"
     ]
    },
    {
     "data": {
      "application/vnd.jupyter.widget-view+json": {
       "model_id": "68625b0ff146429db63af3ebfce8285e",
       "version_major": 2,
       "version_minor": 0
      },
      "text/plain": [
       "  0%|          | 0/10 [00:00<?, ?it/s]"
      ]
     },
     "metadata": {},
     "output_type": "display_data"
    },
    {
     "name": "stderr",
     "output_type": "stream",
     "text": [
      "Could not decode image\n",
      "Could not decode image\n",
      "Could not decode image\n"
     ]
    },
    {
     "name": "stdout",
     "output_type": "stream",
     "text": [
      "SNR=0,bw=0.3333333333333333,k=3072,n=4608,m=2,PSNR=7.10,SSIM=0.07\n"
     ]
    },
    {
     "data": {
      "application/vnd.jupyter.widget-view+json": {
       "model_id": "a6077371a763475796d883b42e1508ac",
       "version_major": 2,
       "version_minor": 0
      },
      "text/plain": [
       "  0%|          | 0/10 [00:00<?, ?it/s]"
      ]
     },
     "metadata": {},
     "output_type": "display_data"
    },
    {
     "name": "stderr",
     "output_type": "stream",
     "text": [
      "Could not decode image\n",
      "Could not decode image\n",
      "Could not decode image\n",
      "Could not decode image\n",
      "Could not decode image\n",
      "Could not decode image\n",
      "Could not decode image\n",
      "Could not decode image\n",
      "Could not decode image\n"
     ]
    },
    {
     "name": "stdout",
     "output_type": "stream",
     "text": [
      "SNR=0,bw=0.3333333333333333,k=3072,n=4608,m=4,PSNR=6.57,SSIM=0.12\n"
     ]
    },
    {
     "name": "stderr",
     "output_type": "stream",
     "text": [
      "Could not decode image\n"
     ]
    },
    {
     "data": {
      "application/vnd.jupyter.widget-view+json": {
       "model_id": "ca97980c80ef4a5d843c519d9936f1f3",
       "version_major": 2,
       "version_minor": 0
      },
      "text/plain": [
       "  0%|          | 0/10 [00:00<?, ?it/s]"
      ]
     },
     "metadata": {},
     "output_type": "display_data"
    },
    {
     "name": "stderr",
     "output_type": "stream",
     "text": [
      "Could not decode image\n",
      "Could not decode image\n",
      "Could not decode image\n",
      "Could not decode image\n",
      "Could not decode image\n",
      "Could not decode image\n",
      "Could not decode image\n",
      "Could not decode image\n",
      "Could not decode image\n"
     ]
    },
    {
     "name": "stdout",
     "output_type": "stream",
     "text": [
      "SNR=0,bw=0.3333333333333333,k=3072,n=4608,m=16,PSNR=6.57,SSIM=0.12\n"
     ]
    },
    {
     "name": "stderr",
     "output_type": "stream",
     "text": [
      "Could not decode image\n"
     ]
    },
    {
     "data": {
      "application/vnd.jupyter.widget-view+json": {
       "model_id": "655f24d885e942cfab5135524820a6b3",
       "version_major": 2,
       "version_minor": 0
      },
      "text/plain": [
       "  0%|          | 0/10 [00:00<?, ?it/s]"
      ]
     },
     "metadata": {},
     "output_type": "display_data"
    },
    {
     "name": "stderr",
     "output_type": "stream",
     "text": [
      "Could not decode image\n",
      "Could not decode image\n",
      "Could not decode image\n",
      "Could not decode image\n",
      "Could not decode image\n",
      "Could not decode image\n",
      "Could not decode image\n",
      "Could not decode image\n",
      "Could not decode image\n"
     ]
    },
    {
     "name": "stdout",
     "output_type": "stream",
     "text": [
      "SNR=0,bw=0.3333333333333333,k=3072,n=4608,m=64,PSNR=6.57,SSIM=0.12\n"
     ]
    },
    {
     "name": "stderr",
     "output_type": "stream",
     "text": [
      "Could not decode image\n"
     ]
    },
    {
     "data": {
      "application/vnd.jupyter.widget-view+json": {
       "model_id": "67cf272f8c4d413a83de5bdeb2f150a0",
       "version_major": 2,
       "version_minor": 0
      },
      "text/plain": [
       "  0%|          | 0/10 [00:00<?, ?it/s]"
      ]
     },
     "metadata": {},
     "output_type": "display_data"
    },
    {
     "name": "stdout",
     "output_type": "stream",
     "text": [
      "SNR=0,bw=0.3333333333333333,k=1536,n=4608,m=2,PSNR=22.32,SSIM=0.75\n"
     ]
    },
    {
     "data": {
      "application/vnd.jupyter.widget-view+json": {
       "model_id": "e1f8b34d937b403b9038e6aa220cbc16",
       "version_major": 2,
       "version_minor": 0
      },
      "text/plain": [
       "  0%|          | 0/10 [00:00<?, ?it/s]"
      ]
     },
     "metadata": {},
     "output_type": "display_data"
    },
    {
     "name": "stdout",
     "output_type": "stream",
     "text": [
      "SNR=0,bw=0.3333333333333333,k=1536,n=4608,m=4,PSNR=25.42,SSIM=0.86\n"
     ]
    },
    {
     "data": {
      "application/vnd.jupyter.widget-view+json": {
       "model_id": "657261080e7c42a3b353cd09e50d5ea8",
       "version_major": 2,
       "version_minor": 0
      },
      "text/plain": [
       "  0%|          | 0/10 [00:00<?, ?it/s]"
      ]
     },
     "metadata": {},
     "output_type": "display_data"
    },
    {
     "name": "stderr",
     "output_type": "stream",
     "text": [
      "Could not decode image\n",
      "Could not decode image\n",
      "Could not decode image\n",
      "Could not decode image\n",
      "Could not decode image\n",
      "Could not decode image\n",
      "Could not decode image\n",
      "Could not decode image\n",
      "Could not decode image\n"
     ]
    },
    {
     "name": "stdout",
     "output_type": "stream",
     "text": [
      "SNR=0,bw=0.3333333333333333,k=1536,n=4608,m=16,PSNR=6.57,SSIM=0.12\n"
     ]
    },
    {
     "name": "stderr",
     "output_type": "stream",
     "text": [
      "Could not decode image\n"
     ]
    },
    {
     "data": {
      "application/vnd.jupyter.widget-view+json": {
       "model_id": "6855c821eacd48b4842226ba17c65fdf",
       "version_major": 2,
       "version_minor": 0
      },
      "text/plain": [
       "  0%|          | 0/10 [00:00<?, ?it/s]"
      ]
     },
     "metadata": {},
     "output_type": "display_data"
    },
    {
     "name": "stderr",
     "output_type": "stream",
     "text": [
      "Could not decode image\n",
      "Could not decode image\n",
      "Could not decode image\n",
      "Could not decode image\n",
      "Could not decode image\n",
      "Could not decode image\n",
      "Could not decode image\n",
      "Could not decode image\n",
      "Could not decode image\n",
      "Could not decode image\n"
     ]
    },
    {
     "name": "stdout",
     "output_type": "stream",
     "text": [
      "SNR=0,bw=0.3333333333333333,k=1536,n=4608,m=64,PSNR=6.57,SSIM=0.12\n"
     ]
    },
    {
     "data": {
      "application/vnd.jupyter.widget-view+json": {
       "model_id": "3768424c81a84822a21c8fb4e3367a06",
       "version_major": 2,
       "version_minor": 0
      },
      "text/plain": [
       "  0%|          | 0/10 [00:00<?, ?it/s]"
      ]
     },
     "metadata": {},
     "output_type": "display_data"
    },
    {
     "name": "stdout",
     "output_type": "stream",
     "text": [
      "SNR=0,bw=0.5,k=3072,n=6144,m=2,PSNR=26.15,SSIM=0.88\n"
     ]
    },
    {
     "data": {
      "application/vnd.jupyter.widget-view+json": {
       "model_id": "1913bde5b036401e8e12d9653035f65e",
       "version_major": 2,
       "version_minor": 0
      },
      "text/plain": [
       "  0%|          | 0/10 [00:00<?, ?it/s]"
      ]
     },
     "metadata": {},
     "output_type": "display_data"
    },
    {
     "name": "stderr",
     "output_type": "stream",
     "text": [
      "Could not decode image\n",
      "Could not decode image\n",
      "Could not decode image\n",
      "Could not decode image\n",
      "Could not decode image\n",
      "Could not decode image\n",
      "Could not decode image\n",
      "Could not decode image\n",
      "Could not decode image\n",
      "Could not decode image\n"
     ]
    },
    {
     "name": "stdout",
     "output_type": "stream",
     "text": [
      "SNR=0,bw=0.5,k=3072,n=6144,m=4,PSNR=6.57,SSIM=0.12\n"
     ]
    },
    {
     "data": {
      "application/vnd.jupyter.widget-view+json": {
       "model_id": "3a297572d6d641dc8a1091a76816f12a",
       "version_major": 2,
       "version_minor": 0
      },
      "text/plain": [
       "  0%|          | 0/10 [00:00<?, ?it/s]"
      ]
     },
     "metadata": {},
     "output_type": "display_data"
    },
    {
     "name": "stderr",
     "output_type": "stream",
     "text": [
      "Could not decode image\n",
      "Could not decode image\n",
      "Could not decode image\n",
      "Could not decode image\n",
      "Could not decode image\n",
      "Could not decode image\n",
      "Could not decode image\n",
      "Could not decode image\n",
      "Could not decode image\n",
      "Could not decode image\n"
     ]
    },
    {
     "name": "stdout",
     "output_type": "stream",
     "text": [
      "SNR=0,bw=0.5,k=3072,n=6144,m=16,PSNR=6.57,SSIM=0.12\n"
     ]
    },
    {
     "data": {
      "application/vnd.jupyter.widget-view+json": {
       "model_id": "59161dcec94244f580884a0d74dc5dd7",
       "version_major": 2,
       "version_minor": 0
      },
      "text/plain": [
       "  0%|          | 0/10 [00:00<?, ?it/s]"
      ]
     },
     "metadata": {},
     "output_type": "display_data"
    },
    {
     "name": "stderr",
     "output_type": "stream",
     "text": [
      "Could not decode image\n",
      "Could not decode image\n",
      "Could not decode image\n",
      "Could not decode image\n",
      "Could not decode image\n",
      "Could not decode image\n",
      "Could not decode image\n",
      "Could not decode image\n",
      "Could not decode image\n"
     ]
    },
    {
     "name": "stdout",
     "output_type": "stream",
     "text": [
      "SNR=0,bw=0.5,k=3072,n=6144,m=64,PSNR=6.57,SSIM=0.12\n"
     ]
    },
    {
     "name": "stderr",
     "output_type": "stream",
     "text": [
      "Could not decode image\n"
     ]
    },
    {
     "data": {
      "application/vnd.jupyter.widget-view+json": {
       "model_id": "99e1dd0a22f74752a0aee4068741d988",
       "version_major": 2,
       "version_minor": 0
      },
      "text/plain": [
       "  0%|          | 0/10 [00:00<?, ?it/s]"
      ]
     },
     "metadata": {},
     "output_type": "display_data"
    },
    {
     "name": "stderr",
     "output_type": "stream",
     "text": [
      "Could not decode image\n",
      "Could not decode image\n"
     ]
    },
    {
     "name": "stdout",
     "output_type": "stream",
     "text": [
      "SNR=0,bw=0.5,k=3072,n=4608,m=2,PSNR=7.36,SSIM=0.07\n"
     ]
    },
    {
     "data": {
      "application/vnd.jupyter.widget-view+json": {
       "model_id": "31c80228100c43aea1a5c91ebf7ebe37",
       "version_major": 2,
       "version_minor": 0
      },
      "text/plain": [
       "  0%|          | 0/10 [00:00<?, ?it/s]"
      ]
     },
     "metadata": {},
     "output_type": "display_data"
    },
    {
     "name": "stderr",
     "output_type": "stream",
     "text": [
      "Could not decode image\n",
      "Could not decode image\n",
      "Could not decode image\n",
      "Could not decode image\n",
      "Could not decode image\n",
      "Could not decode image\n",
      "Could not decode image\n",
      "Could not decode image\n",
      "Could not decode image\n",
      "Could not decode image\n"
     ]
    },
    {
     "name": "stdout",
     "output_type": "stream",
     "text": [
      "SNR=0,bw=0.5,k=3072,n=4608,m=4,PSNR=6.57,SSIM=0.12\n"
     ]
    },
    {
     "data": {
      "application/vnd.jupyter.widget-view+json": {
       "model_id": "125f842f20624fdaa345e9a60b35fb15",
       "version_major": 2,
       "version_minor": 0
      },
      "text/plain": [
       "  0%|          | 0/10 [00:00<?, ?it/s]"
      ]
     },
     "metadata": {},
     "output_type": "display_data"
    },
    {
     "name": "stderr",
     "output_type": "stream",
     "text": [
      "Could not decode image\n",
      "Could not decode image\n",
      "Could not decode image\n",
      "Could not decode image\n",
      "Could not decode image\n",
      "Could not decode image\n",
      "Could not decode image\n",
      "Could not decode image\n",
      "Could not decode image\n"
     ]
    },
    {
     "name": "stdout",
     "output_type": "stream",
     "text": [
      "SNR=0,bw=0.5,k=3072,n=4608,m=16,PSNR=6.57,SSIM=0.12\n"
     ]
    },
    {
     "name": "stderr",
     "output_type": "stream",
     "text": [
      "Could not decode image\n"
     ]
    },
    {
     "data": {
      "application/vnd.jupyter.widget-view+json": {
       "model_id": "ee46327cab42445aa491ab58944ad847",
       "version_major": 2,
       "version_minor": 0
      },
      "text/plain": [
       "  0%|          | 0/10 [00:00<?, ?it/s]"
      ]
     },
     "metadata": {},
     "output_type": "display_data"
    },
    {
     "name": "stderr",
     "output_type": "stream",
     "text": [
      "Could not decode image\n",
      "Could not decode image\n",
      "Could not decode image\n",
      "Could not decode image\n",
      "Could not decode image\n",
      "Could not decode image\n",
      "Could not decode image\n",
      "Could not decode image\n",
      "Could not decode image\n"
     ]
    },
    {
     "name": "stdout",
     "output_type": "stream",
     "text": [
      "SNR=0,bw=0.5,k=3072,n=4608,m=64,PSNR=6.57,SSIM=0.12\n"
     ]
    },
    {
     "name": "stderr",
     "output_type": "stream",
     "text": [
      "Could not decode image\n"
     ]
    },
    {
     "data": {
      "application/vnd.jupyter.widget-view+json": {
       "model_id": "a4bb717efa584e2992893ae140ea1e54",
       "version_major": 2,
       "version_minor": 0
      },
      "text/plain": [
       "  0%|          | 0/10 [00:00<?, ?it/s]"
      ]
     },
     "metadata": {},
     "output_type": "display_data"
    },
    {
     "name": "stdout",
     "output_type": "stream",
     "text": [
      "SNR=0,bw=0.5,k=1536,n=4608,m=2,PSNR=24.14,SSIM=0.82\n"
     ]
    },
    {
     "data": {
      "application/vnd.jupyter.widget-view+json": {
       "model_id": "21dfdc8eb7c649f99e9eedca89c7a735",
       "version_major": 2,
       "version_minor": 0
      },
      "text/plain": [
       "  0%|          | 0/10 [00:00<?, ?it/s]"
      ]
     },
     "metadata": {},
     "output_type": "display_data"
    },
    {
     "name": "stdout",
     "output_type": "stream",
     "text": [
      "SNR=0,bw=0.5,k=1536,n=4608,m=4,PSNR=27.89,SSIM=0.91\n"
     ]
    },
    {
     "data": {
      "application/vnd.jupyter.widget-view+json": {
       "model_id": "c55ac1a72dca4c159c2e751d0c463cb6",
       "version_major": 2,
       "version_minor": 0
      },
      "text/plain": [
       "  0%|          | 0/10 [00:00<?, ?it/s]"
      ]
     },
     "metadata": {},
     "output_type": "display_data"
    },
    {
     "name": "stderr",
     "output_type": "stream",
     "text": [
      "Could not decode image\n",
      "Could not decode image\n",
      "Could not decode image\n",
      "Could not decode image\n",
      "Could not decode image\n",
      "Could not decode image\n",
      "Could not decode image\n",
      "Could not decode image\n",
      "Could not decode image\n"
     ]
    },
    {
     "name": "stdout",
     "output_type": "stream",
     "text": [
      "SNR=0,bw=0.5,k=1536,n=4608,m=16,PSNR=6.57,SSIM=0.12\n"
     ]
    },
    {
     "name": "stderr",
     "output_type": "stream",
     "text": [
      "Could not decode image\n"
     ]
    },
    {
     "data": {
      "application/vnd.jupyter.widget-view+json": {
       "model_id": "07509403201543eebacc171653f818aa",
       "version_major": 2,
       "version_minor": 0
      },
      "text/plain": [
       "  0%|          | 0/10 [00:00<?, ?it/s]"
      ]
     },
     "metadata": {},
     "output_type": "display_data"
    },
    {
     "name": "stderr",
     "output_type": "stream",
     "text": [
      "Could not decode image\n",
      "Could not decode image\n",
      "Could not decode image\n",
      "Could not decode image\n",
      "Could not decode image\n",
      "Could not decode image\n",
      "Could not decode image\n",
      "Could not decode image\n",
      "Could not decode image\n",
      "Could not decode image\n"
     ]
    },
    {
     "name": "stdout",
     "output_type": "stream",
     "text": [
      "SNR=0,bw=0.5,k=1536,n=4608,m=64,PSNR=6.57,SSIM=0.12\n"
     ]
    },
    {
     "data": {
      "application/vnd.jupyter.widget-view+json": {
       "model_id": "05952970eda8422c9d9ee261f56cbb6c",
       "version_major": 2,
       "version_minor": 0
      },
      "text/plain": [
       "  0%|          | 0/10 [00:00<?, ?it/s]"
      ]
     },
     "metadata": {},
     "output_type": "display_data"
    },
    {
     "name": "stdout",
     "output_type": "stream",
     "text": [
      "SNR=10,bw=0.08333333333333333,k=3072,n=6144,m=2,PSNR=19.58,SSIM=0.59\n"
     ]
    },
    {
     "data": {
      "application/vnd.jupyter.widget-view+json": {
       "model_id": "22ec8dcd9a9f4f0ab199cbabfa9d55f2",
       "version_major": 2,
       "version_minor": 0
      },
      "text/plain": [
       "  0%|          | 0/10 [00:00<?, ?it/s]"
      ]
     },
     "metadata": {},
     "output_type": "display_data"
    },
    {
     "name": "stdout",
     "output_type": "stream",
     "text": [
      "SNR=10,bw=0.08333333333333333,k=3072,n=6144,m=4,PSNR=21.66,SSIM=0.72\n"
     ]
    },
    {
     "data": {
      "application/vnd.jupyter.widget-view+json": {
       "model_id": "2523c2db564d42139277187cd80f9830",
       "version_major": 2,
       "version_minor": 0
      },
      "text/plain": [
       "  0%|          | 0/10 [00:00<?, ?it/s]"
      ]
     },
     "metadata": {},
     "output_type": "display_data"
    },
    {
     "name": "stdout",
     "output_type": "stream",
     "text": [
      "SNR=10,bw=0.08333333333333333,k=3072,n=6144,m=16,PSNR=24.13,SSIM=0.82\n"
     ]
    },
    {
     "data": {
      "application/vnd.jupyter.widget-view+json": {
       "model_id": "7a0564305efa4820b2039591dae8f1a6",
       "version_major": 2,
       "version_minor": 0
      },
      "text/plain": [
       "  0%|          | 0/10 [00:00<?, ?it/s]"
      ]
     },
     "metadata": {},
     "output_type": "display_data"
    },
    {
     "name": "stderr",
     "output_type": "stream",
     "text": [
      "Could not decode image\n",
      "Could not decode image\n",
      "Could not decode image\n",
      "Could not decode image\n",
      "Could not decode image\n",
      "Could not decode image\n",
      "Could not decode image\n",
      "Could not decode image\n",
      "Could not decode image\n"
     ]
    },
    {
     "name": "stdout",
     "output_type": "stream",
     "text": [
      "SNR=10,bw=0.08333333333333333,k=3072,n=6144,m=64,PSNR=6.57,SSIM=0.12\n"
     ]
    },
    {
     "name": "stderr",
     "output_type": "stream",
     "text": [
      "Could not decode image\n"
     ]
    },
    {
     "data": {
      "application/vnd.jupyter.widget-view+json": {
       "model_id": "5a5b46243ed34e9db395cc68de0ca7aa",
       "version_major": 2,
       "version_minor": 0
      },
      "text/plain": [
       "  0%|          | 0/10 [00:00<?, ?it/s]"
      ]
     },
     "metadata": {},
     "output_type": "display_data"
    },
    {
     "name": "stdout",
     "output_type": "stream",
     "text": [
      "SNR=10,bw=0.08333333333333333,k=3072,n=4608,m=2,PSNR=20.05,SSIM=0.62\n"
     ]
    },
    {
     "data": {
      "application/vnd.jupyter.widget-view+json": {
       "model_id": "ffc086cfc39b430bab84f95075a252e2",
       "version_major": 2,
       "version_minor": 0
      },
      "text/plain": [
       "  0%|          | 0/10 [00:00<?, ?it/s]"
      ]
     },
     "metadata": {},
     "output_type": "display_data"
    },
    {
     "name": "stdout",
     "output_type": "stream",
     "text": [
      "SNR=10,bw=0.08333333333333333,k=3072,n=4608,m=4,PSNR=22.25,SSIM=0.75\n"
     ]
    },
    {
     "data": {
      "application/vnd.jupyter.widget-view+json": {
       "model_id": "dd0c7a52a8b6458e87b8ad08d9f5e071",
       "version_major": 2,
       "version_minor": 0
      },
      "text/plain": [
       "  0%|          | 0/10 [00:00<?, ?it/s]"
      ]
     },
     "metadata": {},
     "output_type": "display_data"
    },
    {
     "name": "stdout",
     "output_type": "stream",
     "text": [
      "SNR=10,bw=0.08333333333333333,k=3072,n=4608,m=16,PSNR=25.43,SSIM=0.86\n"
     ]
    },
    {
     "data": {
      "application/vnd.jupyter.widget-view+json": {
       "model_id": "9cffb6da9af245caa0285fd8f221e8dc",
       "version_major": 2,
       "version_minor": 0
      },
      "text/plain": [
       "  0%|          | 0/10 [00:00<?, ?it/s]"
      ]
     },
     "metadata": {},
     "output_type": "display_data"
    },
    {
     "name": "stderr",
     "output_type": "stream",
     "text": [
      "Could not decode image\n",
      "Could not decode image\n",
      "Could not decode image\n",
      "Could not decode image\n",
      "Could not decode image\n",
      "Could not decode image\n",
      "Could not decode image\n",
      "Could not decode image\n",
      "Could not decode image\n"
     ]
    },
    {
     "name": "stdout",
     "output_type": "stream",
     "text": [
      "SNR=10,bw=0.08333333333333333,k=3072,n=4608,m=64,PSNR=6.57,SSIM=0.12\n"
     ]
    },
    {
     "name": "stderr",
     "output_type": "stream",
     "text": [
      "Could not decode image\n"
     ]
    },
    {
     "data": {
      "application/vnd.jupyter.widget-view+json": {
       "model_id": "bfac59d602654400ada11e123a5c9630",
       "version_major": 2,
       "version_minor": 0
      },
      "text/plain": [
       "  0%|          | 0/10 [00:00<?, ?it/s]"
      ]
     },
     "metadata": {},
     "output_type": "display_data"
    },
    {
     "name": "stdout",
     "output_type": "stream",
     "text": [
      "SNR=10,bw=0.08333333333333333,k=1536,n=4608,m=2,PSNR=19.58,SSIM=0.59\n"
     ]
    },
    {
     "data": {
      "application/vnd.jupyter.widget-view+json": {
       "model_id": "6dc8080f52c64e169b13f2f748c5f087",
       "version_major": 2,
       "version_minor": 0
      },
      "text/plain": [
       "  0%|          | 0/10 [00:00<?, ?it/s]"
      ]
     },
     "metadata": {},
     "output_type": "display_data"
    },
    {
     "name": "stdout",
     "output_type": "stream",
     "text": [
      "SNR=10,bw=0.08333333333333333,k=1536,n=4608,m=4,PSNR=20.09,SSIM=0.62\n"
     ]
    },
    {
     "data": {
      "application/vnd.jupyter.widget-view+json": {
       "model_id": "0aee0926971a4f0fba0c0b540006e808",
       "version_major": 2,
       "version_minor": 0
      },
      "text/plain": [
       "  0%|          | 0/10 [00:00<?, ?it/s]"
      ]
     },
     "metadata": {},
     "output_type": "display_data"
    },
    {
     "name": "stdout",
     "output_type": "stream",
     "text": [
      "SNR=10,bw=0.08333333333333333,k=1536,n=4608,m=16,PSNR=22.32,SSIM=0.75\n"
     ]
    },
    {
     "data": {
      "application/vnd.jupyter.widget-view+json": {
       "model_id": "c2314f81d0f141d3b141501191514fbd",
       "version_major": 2,
       "version_minor": 0
      },
      "text/plain": [
       "  0%|          | 0/10 [00:00<?, ?it/s]"
      ]
     },
     "metadata": {},
     "output_type": "display_data"
    },
    {
     "name": "stdout",
     "output_type": "stream",
     "text": [
      "SNR=10,bw=0.08333333333333333,k=1536,n=4608,m=64,PSNR=24.13,SSIM=0.82\n"
     ]
    },
    {
     "data": {
      "application/vnd.jupyter.widget-view+json": {
       "model_id": "96a050dd198b48278bdd639d20f48b63",
       "version_major": 2,
       "version_minor": 0
      },
      "text/plain": [
       "  0%|          | 0/10 [00:00<?, ?it/s]"
      ]
     },
     "metadata": {},
     "output_type": "display_data"
    },
    {
     "name": "stdout",
     "output_type": "stream",
     "text": [
      "SNR=10,bw=0.16666666666666666,k=3072,n=6144,m=2,PSNR=21.66,SSIM=0.72\n"
     ]
    },
    {
     "data": {
      "application/vnd.jupyter.widget-view+json": {
       "model_id": "2f9b0a06fb7e4da1a71d3c105ba41b00",
       "version_major": 2,
       "version_minor": 0
      },
      "text/plain": [
       "  0%|          | 0/10 [00:00<?, ?it/s]"
      ]
     },
     "metadata": {},
     "output_type": "display_data"
    },
    {
     "name": "stdout",
     "output_type": "stream",
     "text": [
      "SNR=10,bw=0.16666666666666666,k=3072,n=6144,m=4,PSNR=24.14,SSIM=0.82\n"
     ]
    },
    {
     "data": {
      "application/vnd.jupyter.widget-view+json": {
       "model_id": "2a9bda6259ec4bd38068acd061b03844",
       "version_major": 2,
       "version_minor": 0
      },
      "text/plain": [
       "  0%|          | 0/10 [00:00<?, ?it/s]"
      ]
     },
     "metadata": {},
     "output_type": "display_data"
    },
    {
     "name": "stdout",
     "output_type": "stream",
     "text": [
      "SNR=10,bw=0.16666666666666666,k=3072,n=6144,m=16,PSNR=27.95,SSIM=0.92\n"
     ]
    },
    {
     "data": {
      "application/vnd.jupyter.widget-view+json": {
       "model_id": "9ea7147bc4f9442ba6dd2ed58a7deb07",
       "version_major": 2,
       "version_minor": 0
      },
      "text/plain": [
       "  0%|          | 0/10 [00:00<?, ?it/s]"
      ]
     },
     "metadata": {},
     "output_type": "display_data"
    },
    {
     "name": "stderr",
     "output_type": "stream",
     "text": [
      "Could not decode image\n",
      "Could not decode image\n",
      "Could not decode image\n",
      "Could not decode image\n",
      "Could not decode image\n",
      "Could not decode image\n",
      "Could not decode image\n",
      "Could not decode image\n",
      "Could not decode image\n"
     ]
    },
    {
     "name": "stdout",
     "output_type": "stream",
     "text": [
      "SNR=10,bw=0.16666666666666666,k=3072,n=6144,m=64,PSNR=6.57,SSIM=0.12\n"
     ]
    },
    {
     "name": "stderr",
     "output_type": "stream",
     "text": [
      "Could not decode image\n"
     ]
    },
    {
     "data": {
      "application/vnd.jupyter.widget-view+json": {
       "model_id": "04265e5f525946d285af2e88d1a4bd76",
       "version_major": 2,
       "version_minor": 0
      },
      "text/plain": [
       "  0%|          | 0/10 [00:00<?, ?it/s]"
      ]
     },
     "metadata": {},
     "output_type": "display_data"
    },
    {
     "name": "stdout",
     "output_type": "stream",
     "text": [
      "SNR=10,bw=0.16666666666666666,k=3072,n=4608,m=2,PSNR=22.26,SSIM=0.75\n"
     ]
    },
    {
     "data": {
      "application/vnd.jupyter.widget-view+json": {
       "model_id": "6a88d9527e934f6c8fa224ae8a03f10f",
       "version_major": 2,
       "version_minor": 0
      },
      "text/plain": [
       "  0%|          | 0/10 [00:00<?, ?it/s]"
      ]
     },
     "metadata": {},
     "output_type": "display_data"
    },
    {
     "name": "stdout",
     "output_type": "stream",
     "text": [
      "SNR=10,bw=0.16666666666666666,k=3072,n=4608,m=4,PSNR=25.43,SSIM=0.86\n"
     ]
    },
    {
     "data": {
      "application/vnd.jupyter.widget-view+json": {
       "model_id": "2445f112bdca4e61a75e529cb3a40649",
       "version_major": 2,
       "version_minor": 0
      },
      "text/plain": [
       "  0%|          | 0/10 [00:00<?, ?it/s]"
      ]
     },
     "metadata": {},
     "output_type": "display_data"
    },
    {
     "name": "stdout",
     "output_type": "stream",
     "text": [
      "SNR=10,bw=0.16666666666666666,k=3072,n=4608,m=16,PSNR=29.73,SSIM=0.94\n"
     ]
    },
    {
     "data": {
      "application/vnd.jupyter.widget-view+json": {
       "model_id": "bc8a4eb424af4a2284a35c9f63f495be",
       "version_major": 2,
       "version_minor": 0
      },
      "text/plain": [
       "  0%|          | 0/10 [00:00<?, ?it/s]"
      ]
     },
     "metadata": {},
     "output_type": "display_data"
    },
    {
     "name": "stderr",
     "output_type": "stream",
     "text": [
      "Could not decode image\n",
      "Could not decode image\n",
      "Could not decode image\n",
      "Could not decode image\n",
      "Could not decode image\n",
      "Could not decode image\n",
      "Could not decode image\n",
      "Could not decode image\n",
      "Could not decode image\n"
     ]
    },
    {
     "name": "stdout",
     "output_type": "stream",
     "text": [
      "SNR=10,bw=0.16666666666666666,k=3072,n=4608,m=64,PSNR=6.57,SSIM=0.12\n"
     ]
    },
    {
     "name": "stderr",
     "output_type": "stream",
     "text": [
      "Could not decode image\n"
     ]
    },
    {
     "data": {
      "application/vnd.jupyter.widget-view+json": {
       "model_id": "da42ff6b875e4e5d81fccaea5e6b4c7c",
       "version_major": 2,
       "version_minor": 0
      },
      "text/plain": [
       "  0%|          | 0/10 [00:00<?, ?it/s]"
      ]
     },
     "metadata": {},
     "output_type": "display_data"
    },
    {
     "name": "stdout",
     "output_type": "stream",
     "text": [
      "SNR=10,bw=0.16666666666666666,k=1536,n=4608,m=2,PSNR=20.05,SSIM=0.62\n"
     ]
    },
    {
     "data": {
      "application/vnd.jupyter.widget-view+json": {
       "model_id": "e78fe228e41240a2864adc70794b49f4",
       "version_major": 2,
       "version_minor": 0
      },
      "text/plain": [
       "  0%|          | 0/10 [00:00<?, ?it/s]"
      ]
     },
     "metadata": {},
     "output_type": "display_data"
    },
    {
     "name": "stdout",
     "output_type": "stream",
     "text": [
      "SNR=10,bw=0.16666666666666666,k=1536,n=4608,m=4,PSNR=22.26,SSIM=0.75\n"
     ]
    },
    {
     "data": {
      "application/vnd.jupyter.widget-view+json": {
       "model_id": "2f4afba5c52c461c80e2deb54914ba8b",
       "version_major": 2,
       "version_minor": 0
      },
      "text/plain": [
       "  0%|          | 0/10 [00:00<?, ?it/s]"
      ]
     },
     "metadata": {},
     "output_type": "display_data"
    },
    {
     "name": "stdout",
     "output_type": "stream",
     "text": [
      "SNR=10,bw=0.16666666666666666,k=1536,n=4608,m=16,PSNR=25.43,SSIM=0.86\n"
     ]
    },
    {
     "data": {
      "application/vnd.jupyter.widget-view+json": {
       "model_id": "82d9355706a7493aa0171435b7ae278f",
       "version_major": 2,
       "version_minor": 0
      },
      "text/plain": [
       "  0%|          | 0/10 [00:00<?, ?it/s]"
      ]
     },
     "metadata": {},
     "output_type": "display_data"
    },
    {
     "name": "stdout",
     "output_type": "stream",
     "text": [
      "SNR=10,bw=0.16666666666666666,k=1536,n=4608,m=64,PSNR=27.90,SSIM=0.91\n"
     ]
    },
    {
     "data": {
      "application/vnd.jupyter.widget-view+json": {
       "model_id": "51ede5119e344d47a5bc28c3ddc62dbd",
       "version_major": 2,
       "version_minor": 0
      },
      "text/plain": [
       "  0%|          | 0/10 [00:00<?, ?it/s]"
      ]
     },
     "metadata": {},
     "output_type": "display_data"
    },
    {
     "name": "stdout",
     "output_type": "stream",
     "text": [
      "SNR=10,bw=0.25,k=3072,n=6144,m=2,PSNR=22.87,SSIM=0.77\n"
     ]
    },
    {
     "data": {
      "application/vnd.jupyter.widget-view+json": {
       "model_id": "87012883fead43a68be42b99dea24ddd",
       "version_major": 2,
       "version_minor": 0
      },
      "text/plain": [
       "  0%|          | 0/10 [00:00<?, ?it/s]"
      ]
     },
     "metadata": {},
     "output_type": "display_data"
    },
    {
     "name": "stdout",
     "output_type": "stream",
     "text": [
      "SNR=10,bw=0.25,k=3072,n=6144,m=4,PSNR=26.15,SSIM=0.88\n"
     ]
    },
    {
     "data": {
      "application/vnd.jupyter.widget-view+json": {
       "model_id": "eed154d4eade43e484d023e8d4a6d833",
       "version_major": 2,
       "version_minor": 0
      },
      "text/plain": [
       "  0%|          | 0/10 [00:00<?, ?it/s]"
      ]
     },
     "metadata": {},
     "output_type": "display_data"
    },
    {
     "name": "stdout",
     "output_type": "stream",
     "text": [
      "SNR=10,bw=0.25,k=3072,n=6144,m=16,PSNR=30.49,SSIM=0.95\n"
     ]
    },
    {
     "data": {
      "application/vnd.jupyter.widget-view+json": {
       "model_id": "cab3098bfc98490b8a4a46dff6f8780a",
       "version_major": 2,
       "version_minor": 0
      },
      "text/plain": [
       "  0%|          | 0/10 [00:00<?, ?it/s]"
      ]
     },
     "metadata": {},
     "output_type": "display_data"
    },
    {
     "name": "stderr",
     "output_type": "stream",
     "text": [
      "Could not decode image\n",
      "Could not decode image\n",
      "Could not decode image\n",
      "Could not decode image\n",
      "Could not decode image\n",
      "Could not decode image\n",
      "Could not decode image\n",
      "Could not decode image\n",
      "Could not decode image\n"
     ]
    },
    {
     "name": "stdout",
     "output_type": "stream",
     "text": [
      "SNR=10,bw=0.25,k=3072,n=6144,m=64,PSNR=6.57,SSIM=0.12\n"
     ]
    },
    {
     "name": "stderr",
     "output_type": "stream",
     "text": [
      "Could not decode image\n"
     ]
    },
    {
     "data": {
      "application/vnd.jupyter.widget-view+json": {
       "model_id": "b407c700a80a400197ec24dbe37747cc",
       "version_major": 2,
       "version_minor": 0
      },
      "text/plain": [
       "  0%|          | 0/10 [00:00<?, ?it/s]"
      ]
     },
     "metadata": {},
     "output_type": "display_data"
    },
    {
     "name": "stdout",
     "output_type": "stream",
     "text": [
      "SNR=10,bw=0.25,k=3072,n=4608,m=2,PSNR=24.13,SSIM=0.82\n"
     ]
    },
    {
     "data": {
      "application/vnd.jupyter.widget-view+json": {
       "model_id": "3918f717dfe1415f8d18b30a7c6c472f",
       "version_major": 2,
       "version_minor": 0
      },
      "text/plain": [
       "  0%|          | 0/10 [00:00<?, ?it/s]"
      ]
     },
     "metadata": {},
     "output_type": "display_data"
    },
    {
     "name": "stdout",
     "output_type": "stream",
     "text": [
      "SNR=10,bw=0.25,k=3072,n=4608,m=4,PSNR=27.89,SSIM=0.91\n"
     ]
    },
    {
     "data": {
      "application/vnd.jupyter.widget-view+json": {
       "model_id": "1f7189e2c11d48cd882b564af6e83d5a",
       "version_major": 2,
       "version_minor": 0
      },
      "text/plain": [
       "  0%|          | 0/10 [00:00<?, ?it/s]"
      ]
     },
     "metadata": {},
     "output_type": "display_data"
    },
    {
     "name": "stdout",
     "output_type": "stream",
     "text": [
      "SNR=10,bw=0.25,k=3072,n=4608,m=16,PSNR=32.83,SSIM=0.97\n"
     ]
    },
    {
     "data": {
      "application/vnd.jupyter.widget-view+json": {
       "model_id": "021e242722e24c899136a63294e623c0",
       "version_major": 2,
       "version_minor": 0
      },
      "text/plain": [
       "  0%|          | 0/10 [00:00<?, ?it/s]"
      ]
     },
     "metadata": {},
     "output_type": "display_data"
    },
    {
     "name": "stderr",
     "output_type": "stream",
     "text": [
      "Could not decode image\n",
      "Could not decode image\n",
      "Could not decode image\n",
      "Could not decode image\n",
      "Could not decode image\n",
      "Could not decode image\n",
      "Could not decode image\n",
      "Could not decode image\n",
      "Could not decode image\n"
     ]
    },
    {
     "name": "stdout",
     "output_type": "stream",
     "text": [
      "SNR=10,bw=0.25,k=3072,n=4608,m=64,PSNR=6.57,SSIM=0.12\n"
     ]
    },
    {
     "name": "stderr",
     "output_type": "stream",
     "text": [
      "Could not decode image\n"
     ]
    },
    {
     "data": {
      "application/vnd.jupyter.widget-view+json": {
       "model_id": "ced59c5613eb4ae7b0743f0597c6de8b",
       "version_major": 2,
       "version_minor": 0
      },
      "text/plain": [
       "  0%|          | 0/10 [00:00<?, ?it/s]"
      ]
     },
     "metadata": {},
     "output_type": "display_data"
    },
    {
     "name": "stdout",
     "output_type": "stream",
     "text": [
      "SNR=10,bw=0.25,k=1536,n=4608,m=2,PSNR=21.67,SSIM=0.72\n"
     ]
    },
    {
     "data": {
      "application/vnd.jupyter.widget-view+json": {
       "model_id": "ac5e0d16f33449a3b798367487da9214",
       "version_major": 2,
       "version_minor": 0
      },
      "text/plain": [
       "  0%|          | 0/10 [00:00<?, ?it/s]"
      ]
     },
     "metadata": {},
     "output_type": "display_data"
    },
    {
     "name": "stdout",
     "output_type": "stream",
     "text": [
      "SNR=10,bw=0.25,k=1536,n=4608,m=4,PSNR=24.13,SSIM=0.82\n"
     ]
    },
    {
     "data": {
      "application/vnd.jupyter.widget-view+json": {
       "model_id": "0ad483bc4f384a01801eeb62c0ff661e",
       "version_major": 2,
       "version_minor": 0
      },
      "text/plain": [
       "  0%|          | 0/10 [00:00<?, ?it/s]"
      ]
     },
     "metadata": {},
     "output_type": "display_data"
    },
    {
     "name": "stdout",
     "output_type": "stream",
     "text": [
      "SNR=10,bw=0.25,k=1536,n=4608,m=16,PSNR=27.89,SSIM=0.91\n"
     ]
    },
    {
     "data": {
      "application/vnd.jupyter.widget-view+json": {
       "model_id": "fd4652b9235240e5a4a0be43f121cada",
       "version_major": 2,
       "version_minor": 0
      },
      "text/plain": [
       "  0%|          | 0/10 [00:00<?, ?it/s]"
      ]
     },
     "metadata": {},
     "output_type": "display_data"
    },
    {
     "name": "stdout",
     "output_type": "stream",
     "text": [
      "SNR=10,bw=0.25,k=1536,n=4608,m=64,PSNR=30.49,SSIM=0.95\n"
     ]
    },
    {
     "data": {
      "application/vnd.jupyter.widget-view+json": {
       "model_id": "bda9d41a0e6640f8bb43a05ef63b0e55",
       "version_major": 2,
       "version_minor": 0
      },
      "text/plain": [
       "  0%|          | 0/10 [00:00<?, ?it/s]"
      ]
     },
     "metadata": {},
     "output_type": "display_data"
    },
    {
     "name": "stdout",
     "output_type": "stream",
     "text": [
      "SNR=10,bw=0.3333333333333333,k=3072,n=6144,m=2,PSNR=24.13,SSIM=0.82\n"
     ]
    },
    {
     "data": {
      "application/vnd.jupyter.widget-view+json": {
       "model_id": "c3d4dbccc7664cd7978fc507303a2405",
       "version_major": 2,
       "version_minor": 0
      },
      "text/plain": [
       "  0%|          | 0/10 [00:00<?, ?it/s]"
      ]
     },
     "metadata": {},
     "output_type": "display_data"
    },
    {
     "name": "stdout",
     "output_type": "stream",
     "text": [
      "SNR=10,bw=0.3333333333333333,k=3072,n=6144,m=4,PSNR=27.96,SSIM=0.92\n"
     ]
    },
    {
     "data": {
      "application/vnd.jupyter.widget-view+json": {
       "model_id": "6d7ab9f40b284ff6b5cc956f3b813c02",
       "version_major": 2,
       "version_minor": 0
      },
      "text/plain": [
       "  0%|          | 0/10 [00:00<?, ?it/s]"
      ]
     },
     "metadata": {},
     "output_type": "display_data"
    },
    {
     "name": "stdout",
     "output_type": "stream",
     "text": [
      "SNR=10,bw=0.3333333333333333,k=3072,n=6144,m=16,PSNR=32.83,SSIM=0.97\n"
     ]
    },
    {
     "data": {
      "application/vnd.jupyter.widget-view+json": {
       "model_id": "3b85819d0ff64f079faefcc5e6fc5f20",
       "version_major": 2,
       "version_minor": 0
      },
      "text/plain": [
       "  0%|          | 0/10 [00:00<?, ?it/s]"
      ]
     },
     "metadata": {},
     "output_type": "display_data"
    },
    {
     "name": "stderr",
     "output_type": "stream",
     "text": [
      "Could not decode image\n",
      "Could not decode image\n",
      "Could not decode image\n",
      "Could not decode image\n",
      "Could not decode image\n",
      "Could not decode image\n",
      "Could not decode image\n",
      "Could not decode image\n",
      "Could not decode image\n",
      "Could not decode image\n"
     ]
    },
    {
     "name": "stdout",
     "output_type": "stream",
     "text": [
      "SNR=10,bw=0.3333333333333333,k=3072,n=6144,m=64,PSNR=6.57,SSIM=0.12\n"
     ]
    },
    {
     "data": {
      "application/vnd.jupyter.widget-view+json": {
       "model_id": "c392c128b4c54f6fa5003f7ca2e4aba4",
       "version_major": 2,
       "version_minor": 0
      },
      "text/plain": [
       "  0%|          | 0/10 [00:00<?, ?it/s]"
      ]
     },
     "metadata": {},
     "output_type": "display_data"
    },
    {
     "name": "stdout",
     "output_type": "stream",
     "text": [
      "SNR=10,bw=0.3333333333333333,k=3072,n=4608,m=2,PSNR=25.42,SSIM=0.86\n"
     ]
    },
    {
     "data": {
      "application/vnd.jupyter.widget-view+json": {
       "model_id": "f627180b7b674aa2865c68dca9e8b960",
       "version_major": 2,
       "version_minor": 0
      },
      "text/plain": [
       "  0%|          | 0/10 [00:00<?, ?it/s]"
      ]
     },
     "metadata": {},
     "output_type": "display_data"
    },
    {
     "name": "stdout",
     "output_type": "stream",
     "text": [
      "SNR=10,bw=0.3333333333333333,k=3072,n=4608,m=4,PSNR=29.72,SSIM=0.94\n"
     ]
    },
    {
     "data": {
      "application/vnd.jupyter.widget-view+json": {
       "model_id": "93f1b94eff134644a629da03f4a750f4",
       "version_major": 2,
       "version_minor": 0
      },
      "text/plain": [
       "  0%|          | 0/10 [00:00<?, ?it/s]"
      ]
     },
     "metadata": {},
     "output_type": "display_data"
    },
    {
     "name": "stdout",
     "output_type": "stream",
     "text": [
      "SNR=10,bw=0.3333333333333333,k=3072,n=4608,m=16,PSNR=35.18,SSIM=0.98\n"
     ]
    },
    {
     "data": {
      "application/vnd.jupyter.widget-view+json": {
       "model_id": "01d8b4e9d06e4d099a44905f76e14364",
       "version_major": 2,
       "version_minor": 0
      },
      "text/plain": [
       "  0%|          | 0/10 [00:00<?, ?it/s]"
      ]
     },
     "metadata": {},
     "output_type": "display_data"
    },
    {
     "name": "stderr",
     "output_type": "stream",
     "text": [
      "Could not decode image\n",
      "Could not decode image\n",
      "Could not decode image\n",
      "Could not decode image\n",
      "Could not decode image\n",
      "Could not decode image\n",
      "Could not decode image\n",
      "Could not decode image\n",
      "Could not decode image\n"
     ]
    },
    {
     "name": "stdout",
     "output_type": "stream",
     "text": [
      "SNR=10,bw=0.3333333333333333,k=3072,n=4608,m=64,PSNR=6.57,SSIM=0.12\n"
     ]
    },
    {
     "name": "stderr",
     "output_type": "stream",
     "text": [
      "Could not decode image\n"
     ]
    },
    {
     "data": {
      "application/vnd.jupyter.widget-view+json": {
       "model_id": "eae936570ac24ab58c36e469812badf9",
       "version_major": 2,
       "version_minor": 0
      },
      "text/plain": [
       "  0%|          | 0/10 [00:00<?, ?it/s]"
      ]
     },
     "metadata": {},
     "output_type": "display_data"
    },
    {
     "name": "stdout",
     "output_type": "stream",
     "text": [
      "SNR=10,bw=0.3333333333333333,k=1536,n=4608,m=2,PSNR=22.26,SSIM=0.75\n"
     ]
    },
    {
     "data": {
      "application/vnd.jupyter.widget-view+json": {
       "model_id": "6d35a7ca1d1640abb53b88866cff62ab",
       "version_major": 2,
       "version_minor": 0
      },
      "text/plain": [
       "  0%|          | 0/10 [00:00<?, ?it/s]"
      ]
     },
     "metadata": {},
     "output_type": "display_data"
    },
    {
     "name": "stdout",
     "output_type": "stream",
     "text": [
      "SNR=10,bw=0.3333333333333333,k=1536,n=4608,m=4,PSNR=25.43,SSIM=0.86\n"
     ]
    },
    {
     "data": {
      "application/vnd.jupyter.widget-view+json": {
       "model_id": "8c3bbd2def7f487baaf7c7047131983a",
       "version_major": 2,
       "version_minor": 0
      },
      "text/plain": [
       "  0%|          | 0/10 [00:00<?, ?it/s]"
      ]
     },
     "metadata": {},
     "output_type": "display_data"
    },
    {
     "name": "stdout",
     "output_type": "stream",
     "text": [
      "SNR=10,bw=0.3333333333333333,k=1536,n=4608,m=16,PSNR=29.73,SSIM=0.94\n"
     ]
    },
    {
     "data": {
      "application/vnd.jupyter.widget-view+json": {
       "model_id": "cecb336c242c41c78b1da5e93dc8b7ae",
       "version_major": 2,
       "version_minor": 0
      },
      "text/plain": [
       "  0%|          | 0/10 [00:00<?, ?it/s]"
      ]
     },
     "metadata": {},
     "output_type": "display_data"
    },
    {
     "name": "stdout",
     "output_type": "stream",
     "text": [
      "SNR=10,bw=0.3333333333333333,k=1536,n=4608,m=64,PSNR=32.83,SSIM=0.97\n"
     ]
    },
    {
     "data": {
      "application/vnd.jupyter.widget-view+json": {
       "model_id": "49932e10df624deba38ff18290a8e95e",
       "version_major": 2,
       "version_minor": 0
      },
      "text/plain": [
       "  0%|          | 0/10 [00:00<?, ?it/s]"
      ]
     },
     "metadata": {},
     "output_type": "display_data"
    },
    {
     "name": "stdout",
     "output_type": "stream",
     "text": [
      "SNR=10,bw=0.5,k=3072,n=6144,m=2,PSNR=26.15,SSIM=0.88\n"
     ]
    },
    {
     "data": {
      "application/vnd.jupyter.widget-view+json": {
       "model_id": "b95f0c0db56c43799206f565fd9f3773",
       "version_major": 2,
       "version_minor": 0
      },
      "text/plain": [
       "  0%|          | 0/10 [00:00<?, ?it/s]"
      ]
     },
     "metadata": {},
     "output_type": "display_data"
    },
    {
     "name": "stdout",
     "output_type": "stream",
     "text": [
      "SNR=10,bw=0.5,k=3072,n=6144,m=4,PSNR=30.49,SSIM=0.95\n"
     ]
    },
    {
     "data": {
      "application/vnd.jupyter.widget-view+json": {
       "model_id": "c29444ff940b4d568bd7dbdabfaf6bf7",
       "version_major": 2,
       "version_minor": 0
      },
      "text/plain": [
       "  0%|          | 0/10 [00:00<?, ?it/s]"
      ]
     },
     "metadata": {},
     "output_type": "display_data"
    },
    {
     "name": "stdout",
     "output_type": "stream",
     "text": [
      "SNR=10,bw=0.5,k=3072,n=6144,m=16,PSNR=36.40,SSIM=0.98\n"
     ]
    },
    {
     "data": {
      "application/vnd.jupyter.widget-view+json": {
       "model_id": "223b3e03d7cb45f8b0570f5249f20b41",
       "version_major": 2,
       "version_minor": 0
      },
      "text/plain": [
       "  0%|          | 0/10 [00:00<?, ?it/s]"
      ]
     },
     "metadata": {},
     "output_type": "display_data"
    },
    {
     "name": "stderr",
     "output_type": "stream",
     "text": [
      "Could not decode image\n",
      "Could not decode image\n",
      "Could not decode image\n",
      "Could not decode image\n",
      "Could not decode image\n",
      "Could not decode image\n",
      "Could not decode image\n",
      "Could not decode image\n",
      "Could not decode image\n"
     ]
    },
    {
     "name": "stdout",
     "output_type": "stream",
     "text": [
      "SNR=10,bw=0.5,k=3072,n=6144,m=64,PSNR=6.57,SSIM=0.12\n"
     ]
    },
    {
     "name": "stderr",
     "output_type": "stream",
     "text": [
      "Could not decode image\n"
     ]
    },
    {
     "data": {
      "application/vnd.jupyter.widget-view+json": {
       "model_id": "1f9c201b5a474d14b444114680e4961b",
       "version_major": 2,
       "version_minor": 0
      },
      "text/plain": [
       "  0%|          | 0/10 [00:00<?, ?it/s]"
      ]
     },
     "metadata": {},
     "output_type": "display_data"
    },
    {
     "name": "stdout",
     "output_type": "stream",
     "text": [
      "SNR=10,bw=0.5,k=3072,n=4608,m=2,PSNR=27.97,SSIM=0.92\n"
     ]
    },
    {
     "data": {
      "application/vnd.jupyter.widget-view+json": {
       "model_id": "758c1be0d4274d93a1208235ab104a2b",
       "version_major": 2,
       "version_minor": 0
      },
      "text/plain": [
       "  0%|          | 0/10 [00:00<?, ?it/s]"
      ]
     },
     "metadata": {},
     "output_type": "display_data"
    },
    {
     "name": "stdout",
     "output_type": "stream",
     "text": [
      "SNR=10,bw=0.5,k=3072,n=4608,m=4,PSNR=32.83,SSIM=0.97\n"
     ]
    },
    {
     "data": {
      "application/vnd.jupyter.widget-view+json": {
       "model_id": "949deafa4115444aae122efec030d6e7",
       "version_major": 2,
       "version_minor": 0
      },
      "text/plain": [
       "  0%|          | 0/10 [00:00<?, ?it/s]"
      ]
     },
     "metadata": {},
     "output_type": "display_data"
    },
    {
     "name": "stdout",
     "output_type": "stream",
     "text": [
      "SNR=10,bw=0.5,k=3072,n=4608,m=16,PSNR=39.28,SSIM=0.99\n"
     ]
    },
    {
     "data": {
      "application/vnd.jupyter.widget-view+json": {
       "model_id": "82305c11118e4817982d14a5cdb26743",
       "version_major": 2,
       "version_minor": 0
      },
      "text/plain": [
       "  0%|          | 0/10 [00:00<?, ?it/s]"
      ]
     },
     "metadata": {},
     "output_type": "display_data"
    },
    {
     "name": "stderr",
     "output_type": "stream",
     "text": [
      "Could not decode image\n",
      "Could not decode image\n",
      "Could not decode image\n",
      "Could not decode image\n",
      "Could not decode image\n",
      "Could not decode image\n",
      "Could not decode image\n",
      "Could not decode image\n",
      "Could not decode image\n"
     ]
    },
    {
     "name": "stdout",
     "output_type": "stream",
     "text": [
      "SNR=10,bw=0.5,k=3072,n=4608,m=64,PSNR=6.57,SSIM=0.12\n"
     ]
    },
    {
     "name": "stderr",
     "output_type": "stream",
     "text": [
      "Could not decode image\n"
     ]
    },
    {
     "data": {
      "application/vnd.jupyter.widget-view+json": {
       "model_id": "0cca00adaddc4c50ad6043137743a6ab",
       "version_major": 2,
       "version_minor": 0
      },
      "text/plain": [
       "  0%|          | 0/10 [00:00<?, ?it/s]"
      ]
     },
     "metadata": {},
     "output_type": "display_data"
    },
    {
     "name": "stdout",
     "output_type": "stream",
     "text": [
      "SNR=10,bw=0.5,k=1536,n=4608,m=2,PSNR=24.14,SSIM=0.82\n"
     ]
    },
    {
     "data": {
      "application/vnd.jupyter.widget-view+json": {
       "model_id": "13bba5261d4c46a48d958165eed3afc8",
       "version_major": 2,
       "version_minor": 0
      },
      "text/plain": [
       "  0%|          | 0/10 [00:00<?, ?it/s]"
      ]
     },
     "metadata": {},
     "output_type": "display_data"
    },
    {
     "name": "stdout",
     "output_type": "stream",
     "text": [
      "SNR=10,bw=0.5,k=1536,n=4608,m=4,PSNR=27.97,SSIM=0.92\n"
     ]
    },
    {
     "data": {
      "application/vnd.jupyter.widget-view+json": {
       "model_id": "c793db993c7a4cfe9a3ede459bd3d9da",
       "version_major": 2,
       "version_minor": 0
      },
      "text/plain": [
       "  0%|          | 0/10 [00:00<?, ?it/s]"
      ]
     },
     "metadata": {},
     "output_type": "display_data"
    },
    {
     "name": "stdout",
     "output_type": "stream",
     "text": [
      "SNR=10,bw=0.5,k=1536,n=4608,m=16,PSNR=32.83,SSIM=0.97\n"
     ]
    },
    {
     "data": {
      "application/vnd.jupyter.widget-view+json": {
       "model_id": "0ecf25bfbd614bcbad9ec56caeb16265",
       "version_major": 2,
       "version_minor": 0
      },
      "text/plain": [
       "  0%|          | 0/10 [00:00<?, ?it/s]"
      ]
     },
     "metadata": {},
     "output_type": "display_data"
    },
    {
     "name": "stdout",
     "output_type": "stream",
     "text": [
      "SNR=10,bw=0.5,k=1536,n=4608,m=64,PSNR=36.40,SSIM=0.98\n"
     ]
    }
   ],
   "source": [
    "# BPG + LDPC\n",
    "from tqdm.auto import tqdm\n",
    "\n",
    "bpgencoder = BPGEncoder()\n",
    "bpgdecoder = BPGDecoder()\n",
    "\n",
    "bw_ratio = [1/12, 1/6, 1/4, 1/3, 1/2]\n",
    "snrs = [0, 10]\n",
    "mcs = [(k, n, m) for k, n in [(3072, 6144), (3072, 4608), (1536, 4608)] for m in (2, 4, 16, 64)]\n",
    "'''\n",
    "(3072, 6144), (3072, 4608), (1536, 4608)\n",
    "BPSK, 4-QAM, 16-QAM, 64-QAM\n",
    "'''\n",
    "\n",
    "for esno_db in snrs:\n",
    "    for bw in bw_ratio:\n",
    "        for k, n, m in mcs:\n",
    "            i = 0\n",
    "            psnr = 0\n",
    "            ssim = 0\n",
    "            total_images = 0\n",
    "            ldpctransmitter = LDPCTransmitter(k, n, m, esno_db, 'AWGN')\n",
    "            for image, _ in tqdm(test_ds):\n",
    "                b, _, _, _ = image.shape\n",
    "                image = tf.cast(imBatchtoImage(image), tf.uint8)\n",
    "                max_bytes = b * 32 * 32 * 3 * bw * math.log2(m) * k / n / 8\n",
    "                src_bits = bpgencoder.encode(image.numpy(), max_bytes)\n",
    "                rcv_bits = ldpctransmitter.send(src_bits)\n",
    "                \n",
    "                decoded_image = bpgdecoder.decode(rcv_bits.numpy(), image.shape)\n",
    "                total_images += b\n",
    "                psnr = (total_images - b) / (total_images) * psnr + float(b * tf.image.psnr(decoded_image, image, max_val=255)) / (total_images)\n",
    "                ssim = (total_images - b) / (total_images) * ssim + float(b * tf.image.ssim(tf.cast(decoded_image, dtype=tf.float32), tf.cast(image, dtype=tf.float32), max_val=255)) / (total_images)\n",
    "\n",
    "            print(f'SNR={esno_db},bw={bw},k={k},n={n},m={m},PSNR={psnr:.2f},SSIM={ssim:.2f}')\n"
   ]
  },
  {
   "cell_type": "code",
   "execution_count": 25,
   "metadata": {},
   "outputs": [
    {
     "data": {
      "application/vnd.jupyter.widget-view+json": {
       "model_id": "3c2fbc9966374d62882712c8878d992d",
       "version_major": 2,
       "version_minor": 0
      },
      "text/plain": [
       "  0%|          | 0/10 [00:00<?, ?it/s]"
      ]
     },
     "metadata": {},
     "output_type": "display_data"
    },
    {
     "name": "stdout",
     "output_type": "stream",
     "text": [
      "SNR=0,PSNR=21.66,SSIM=0.72\n"
     ]
    },
    {
     "data": {
      "application/vnd.jupyter.widget-view+json": {
       "model_id": "7623004142904317bab0709ad5d2a56b",
       "version_major": 2,
       "version_minor": 0
      },
      "text/plain": [
       "  0%|          | 0/10 [00:00<?, ?it/s]"
      ]
     },
     "metadata": {},
     "output_type": "display_data"
    },
    {
     "name": "stdout",
     "output_type": "stream",
     "text": [
      "SNR=10,PSNR=26.82,SSIM=0.89\n"
     ]
    },
    {
     "data": {
      "application/vnd.jupyter.widget-view+json": {
       "model_id": "b9888bcd03b648d9a730499fb686d641",
       "version_major": 2,
       "version_minor": 0
      },
      "text/plain": [
       "  0%|          | 0/10 [00:00<?, ?it/s]"
      ]
     },
     "metadata": {},
     "output_type": "display_data"
    },
    {
     "name": "stdout",
     "output_type": "stream",
     "text": [
      "SNR=0,PSNR=24.13,SSIM=0.82\n"
     ]
    },
    {
     "data": {
      "application/vnd.jupyter.widget-view+json": {
       "model_id": "1456822e81f84d86a8d0e7915ff72383",
       "version_major": 2,
       "version_minor": 0
      },
      "text/plain": [
       "  0%|          | 0/10 [00:00<?, ?it/s]"
      ]
     },
     "metadata": {},
     "output_type": "display_data"
    },
    {
     "name": "stdout",
     "output_type": "stream",
     "text": [
      "SNR=10,PSNR=31.66,SSIM=0.96\n"
     ]
    },
    {
     "data": {
      "application/vnd.jupyter.widget-view+json": {
       "model_id": "cfd96b7b2b4c4884b365be3a72abf241",
       "version_major": 2,
       "version_minor": 0
      },
      "text/plain": [
       "  0%|          | 0/10 [00:00<?, ?it/s]"
      ]
     },
     "metadata": {},
     "output_type": "display_data"
    },
    {
     "name": "stdout",
     "output_type": "stream",
     "text": [
      "SNR=0,PSNR=26.15,SSIM=0.88\n"
     ]
    },
    {
     "data": {
      "application/vnd.jupyter.widget-view+json": {
       "model_id": "b15482155b8643a3949ec912fe8cb955",
       "version_major": 2,
       "version_minor": 0
      },
      "text/plain": [
       "  0%|          | 0/10 [00:00<?, ?it/s]"
      ]
     },
     "metadata": {},
     "output_type": "display_data"
    },
    {
     "name": "stdout",
     "output_type": "stream",
     "text": [
      "SNR=10,PSNR=35.18,SSIM=0.98\n"
     ]
    },
    {
     "data": {
      "application/vnd.jupyter.widget-view+json": {
       "model_id": "dd411ef5447a4d4a92393ea27b524861",
       "version_major": 2,
       "version_minor": 0
      },
      "text/plain": [
       "  0%|          | 0/10 [00:00<?, ?it/s]"
      ]
     },
     "metadata": {},
     "output_type": "display_data"
    },
    {
     "name": "stdout",
     "output_type": "stream",
     "text": [
      "SNR=0,PSNR=27.82,SSIM=0.91\n"
     ]
    },
    {
     "data": {
      "application/vnd.jupyter.widget-view+json": {
       "model_id": "27f297ddc5e241209640db848e9838d7",
       "version_major": 2,
       "version_minor": 0
      },
      "text/plain": [
       "  0%|          | 0/10 [00:00<?, ?it/s]"
      ]
     },
     "metadata": {},
     "output_type": "display_data"
    },
    {
     "name": "stdout",
     "output_type": "stream",
     "text": [
      "SNR=10,PSNR=37.69,SSIM=0.99\n"
     ]
    },
    {
     "data": {
      "application/vnd.jupyter.widget-view+json": {
       "model_id": "fbf232897e694a128c4715985520a7d8",
       "version_major": 2,
       "version_minor": 0
      },
      "text/plain": [
       "  0%|          | 0/10 [00:00<?, ?it/s]"
      ]
     },
     "metadata": {},
     "output_type": "display_data"
    },
    {
     "name": "stdout",
     "output_type": "stream",
     "text": [
      "SNR=0,PSNR=30.49,SSIM=0.95\n"
     ]
    },
    {
     "data": {
      "application/vnd.jupyter.widget-view+json": {
       "model_id": "1a2668162c554f1a8d22c698c0ac498f",
       "version_major": 2,
       "version_minor": 0
      },
      "text/plain": [
       "  0%|          | 0/10 [00:00<?, ?it/s]"
      ]
     },
     "metadata": {},
     "output_type": "display_data"
    },
    {
     "name": "stdout",
     "output_type": "stream",
     "text": [
      "SNR=10,PSNR=42.29,SSIM=1.00\n"
     ]
    }
   ],
   "source": [
    "# BPG + Capacity\n",
    "from tqdm.auto import tqdm\n",
    "\n",
    "bpgencoder = BPGEncoder()\n",
    "bpgdecoder = BPGDecoder()\n",
    "\n",
    "snrs = [0, 10]\n",
    "mcs = [(1, 1, 1)] # dummy\n",
    "bw_ratio = [1/12, 1/6, 1/4, 1/3, 1/2]\n",
    "'''\n",
    "(3072, 6144), (3072, 4608), (1536, 4608)\n",
    "BPSK, 4-QAM, 16-QAM, 64-QAM\n",
    "'''\n",
    "\n",
    "for esno_db in snrs:\n",
    "    for bw in bw_ratio:\n",
    "        for _, _, _ in mcs:\n",
    "            i = 0\n",
    "            psnr = 0\n",
    "            ssim = 0\n",
    "            total_images = 0\n",
    "            for image, _ in tqdm(test_ds):\n",
    "                b, _, _, _ = image.shape\n",
    "                image = tf.cast(imBatchtoImage(image), tf.uint8)\n",
    "                max_bytes = b * 32 * 32 * 3 * bw * math.log2(1 + 10 ** (esno_db/10)) / 8\n",
    "                src_bits = bpgencoder.encode(image.numpy(), max_bytes)\n",
    "                decoded_image = bpgdecoder.decode(src_bits, image.shape)\n",
    "                total_images += b\n",
    "                psnr = (total_images - b) / (total_images) * psnr + float(b * tf.image.psnr(decoded_image, image, max_val=255)) / (total_images)\n",
    "                ssim = (total_images - b) / (total_images) * ssim + float(b * tf.image.ssim(tf.cast(decoded_image, dtype=tf.float32), tf.cast(image, dtype=tf.float32), max_val=255)) / (total_images)\n",
    "\n",
    "            print(f'SNR={esno_db},bw={bw},PSNR={psnr:.2f},SSIM={ssim:.2f}')\n"
   ]
  },
  {
   "cell_type": "code",
   "execution_count": 7,
   "metadata": {},
   "outputs": [
    {
     "data": {
      "application/vnd.jupyter.widget-view+json": {
       "model_id": "f824ec4fd68944dda7706b343f313be2",
       "version_major": 2,
       "version_minor": 0
      },
      "text/plain": [
       "  0%|          | 0/10 [00:00<?, ?it/s]"
      ]
     },
     "metadata": {},
     "output_type": "display_data"
    },
    {
     "name": "stdout",
     "output_type": "stream",
     "text": [
      "SNR=0,bw=0.16666666666666666,k=3072,n=6144,m=2,PSNR=21.66,SSIM=0.72\n"
     ]
    },
    {
     "data": {
      "application/vnd.jupyter.widget-view+json": {
       "model_id": "b358328b58274d7eb86dc585df397538",
       "version_major": 2,
       "version_minor": 0
      },
      "text/plain": [
       "  0%|          | 0/10 [00:00<?, ?it/s]"
      ]
     },
     "metadata": {},
     "output_type": "display_data"
    },
    {
     "name": "stderr",
     "output_type": "stream",
     "text": [
      "Could not decode image\n",
      "Could not decode image\n",
      "Could not decode image\n",
      "Could not decode image\n",
      "Could not decode image\n",
      "Could not decode image\n",
      "Could not decode image\n",
      "Could not decode image\n",
      "Could not decode image\n",
      "Could not decode image\n"
     ]
    },
    {
     "name": "stdout",
     "output_type": "stream",
     "text": [
      "SNR=0,bw=0.16666666666666666,k=3072,n=6144,m=4,PSNR=6.57,SSIM=0.12\n"
     ]
    },
    {
     "data": {
      "application/vnd.jupyter.widget-view+json": {
       "model_id": "2051688c99ad423ba9d776a4012366b3",
       "version_major": 2,
       "version_minor": 0
      },
      "text/plain": [
       "  0%|          | 0/10 [00:00<?, ?it/s]"
      ]
     },
     "metadata": {},
     "output_type": "display_data"
    },
    {
     "name": "stderr",
     "output_type": "stream",
     "text": [
      "Could not decode image\n",
      "Could not decode image\n",
      "Could not decode image\n",
      "Could not decode image\n",
      "Could not decode image\n",
      "Could not decode image\n",
      "Could not decode image\n",
      "Could not decode image\n",
      "Could not decode image\n",
      "Could not decode image\n"
     ]
    },
    {
     "name": "stdout",
     "output_type": "stream",
     "text": [
      "SNR=0,bw=0.16666666666666666,k=3072,n=6144,m=16,PSNR=6.57,SSIM=0.12\n"
     ]
    },
    {
     "data": {
      "application/vnd.jupyter.widget-view+json": {
       "model_id": "efdfb24c8ec447ab9af8ef8432c66d6c",
       "version_major": 2,
       "version_minor": 0
      },
      "text/plain": [
       "  0%|          | 0/10 [00:00<?, ?it/s]"
      ]
     },
     "metadata": {},
     "output_type": "display_data"
    },
    {
     "name": "stderr",
     "output_type": "stream",
     "text": [
      "Could not decode image\n",
      "Could not decode image\n",
      "Could not decode image\n",
      "Could not decode image\n",
      "Could not decode image\n",
      "Could not decode image\n",
      "Could not decode image\n",
      "Could not decode image\n",
      "Could not decode image\n"
     ]
    },
    {
     "name": "stdout",
     "output_type": "stream",
     "text": [
      "SNR=0,bw=0.16666666666666666,k=3072,n=6144,m=64,PSNR=6.57,SSIM=0.12\n"
     ]
    },
    {
     "name": "stderr",
     "output_type": "stream",
     "text": [
      "Could not decode image\n"
     ]
    },
    {
     "data": {
      "application/vnd.jupyter.widget-view+json": {
       "model_id": "297a9eb9a09b48a0aca602e5562084a8",
       "version_major": 2,
       "version_minor": 0
      },
      "text/plain": [
       "  0%|          | 0/10 [00:00<?, ?it/s]"
      ]
     },
     "metadata": {},
     "output_type": "display_data"
    },
    {
     "name": "stderr",
     "output_type": "stream",
     "text": [
      "Could not decode image\n",
      "Could not decode image\n"
     ]
    },
    {
     "name": "stdout",
     "output_type": "stream",
     "text": [
      "SNR=0,bw=0.16666666666666666,k=3072,n=4608,m=2,PSNR=7.19,SSIM=0.07\n"
     ]
    },
    {
     "data": {
      "application/vnd.jupyter.widget-view+json": {
       "model_id": "7dff68bff511462e9203ac0ce62e2fe2",
       "version_major": 2,
       "version_minor": 0
      },
      "text/plain": [
       "  0%|          | 0/10 [00:00<?, ?it/s]"
      ]
     },
     "metadata": {},
     "output_type": "display_data"
    },
    {
     "name": "stderr",
     "output_type": "stream",
     "text": [
      "Could not decode image\n",
      "Could not decode image\n",
      "Could not decode image\n",
      "Could not decode image\n",
      "Could not decode image\n",
      "Could not decode image\n",
      "Could not decode image\n",
      "Could not decode image\n",
      "Could not decode image\n",
      "Could not decode image\n"
     ]
    },
    {
     "name": "stdout",
     "output_type": "stream",
     "text": [
      "SNR=0,bw=0.16666666666666666,k=3072,n=4608,m=4,PSNR=6.57,SSIM=0.12\n"
     ]
    },
    {
     "data": {
      "application/vnd.jupyter.widget-view+json": {
       "model_id": "7c00659212ce43559677f56d5a54eb8f",
       "version_major": 2,
       "version_minor": 0
      },
      "text/plain": [
       "  0%|          | 0/10 [00:00<?, ?it/s]"
      ]
     },
     "metadata": {},
     "output_type": "display_data"
    },
    {
     "name": "stderr",
     "output_type": "stream",
     "text": [
      "Could not decode image\n",
      "Could not decode image\n",
      "Could not decode image\n",
      "Could not decode image\n",
      "Could not decode image\n",
      "Could not decode image\n",
      "Could not decode image\n",
      "Could not decode image\n",
      "Could not decode image\n",
      "Could not decode image\n"
     ]
    },
    {
     "name": "stdout",
     "output_type": "stream",
     "text": [
      "SNR=0,bw=0.16666666666666666,k=3072,n=4608,m=16,PSNR=6.57,SSIM=0.12\n"
     ]
    },
    {
     "data": {
      "application/vnd.jupyter.widget-view+json": {
       "model_id": "96e14c9cadd94856b708ea972a85d2d8",
       "version_major": 2,
       "version_minor": 0
      },
      "text/plain": [
       "  0%|          | 0/10 [00:00<?, ?it/s]"
      ]
     },
     "metadata": {},
     "output_type": "display_data"
    },
    {
     "name": "stderr",
     "output_type": "stream",
     "text": [
      "Could not decode image\n",
      "Could not decode image\n",
      "Could not decode image\n",
      "Could not decode image\n",
      "Could not decode image\n",
      "Could not decode image\n",
      "Could not decode image\n",
      "Could not decode image\n",
      "Could not decode image\n"
     ]
    },
    {
     "name": "stdout",
     "output_type": "stream",
     "text": [
      "SNR=0,bw=0.16666666666666666,k=3072,n=4608,m=64,PSNR=6.57,SSIM=0.12\n"
     ]
    },
    {
     "name": "stderr",
     "output_type": "stream",
     "text": [
      "Could not decode image\n"
     ]
    },
    {
     "data": {
      "application/vnd.jupyter.widget-view+json": {
       "model_id": "7fc82bcded7945e4a674460b9a6cdfc3",
       "version_major": 2,
       "version_minor": 0
      },
      "text/plain": [
       "  0%|          | 0/10 [00:00<?, ?it/s]"
      ]
     },
     "metadata": {},
     "output_type": "display_data"
    },
    {
     "name": "stdout",
     "output_type": "stream",
     "text": [
      "SNR=0,bw=0.16666666666666666,k=1536,n=4608,m=2,PSNR=20.05,SSIM=0.62\n"
     ]
    },
    {
     "data": {
      "application/vnd.jupyter.widget-view+json": {
       "model_id": "ce49a3161924453ba3ff46968502127f",
       "version_major": 2,
       "version_minor": 0
      },
      "text/plain": [
       "  0%|          | 0/10 [00:00<?, ?it/s]"
      ]
     },
     "metadata": {},
     "output_type": "display_data"
    },
    {
     "name": "stdout",
     "output_type": "stream",
     "text": [
      "SNR=0,bw=0.16666666666666666,k=1536,n=4608,m=4,PSNR=22.26,SSIM=0.75\n"
     ]
    },
    {
     "data": {
      "application/vnd.jupyter.widget-view+json": {
       "model_id": "8a58f0a8c01644a0b15d6aa71d78caf1",
       "version_major": 2,
       "version_minor": 0
      },
      "text/plain": [
       "  0%|          | 0/10 [00:00<?, ?it/s]"
      ]
     },
     "metadata": {},
     "output_type": "display_data"
    },
    {
     "name": "stderr",
     "output_type": "stream",
     "text": [
      "Could not decode image\n",
      "Could not decode image\n",
      "Could not decode image\n",
      "Could not decode image\n",
      "Could not decode image\n",
      "Could not decode image\n",
      "Could not decode image\n",
      "Could not decode image\n",
      "Could not decode image\n"
     ]
    },
    {
     "name": "stdout",
     "output_type": "stream",
     "text": [
      "SNR=0,bw=0.16666666666666666,k=1536,n=4608,m=16,PSNR=6.57,SSIM=0.12\n"
     ]
    },
    {
     "name": "stderr",
     "output_type": "stream",
     "text": [
      "Could not decode image\n"
     ]
    },
    {
     "data": {
      "application/vnd.jupyter.widget-view+json": {
       "model_id": "896db903a0ac4d66b7cd75749b9db9ff",
       "version_major": 2,
       "version_minor": 0
      },
      "text/plain": [
       "  0%|          | 0/10 [00:00<?, ?it/s]"
      ]
     },
     "metadata": {},
     "output_type": "display_data"
    },
    {
     "name": "stderr",
     "output_type": "stream",
     "text": [
      "Could not decode image\n",
      "Could not decode image\n",
      "Could not decode image\n",
      "Could not decode image\n",
      "Could not decode image\n",
      "Could not decode image\n",
      "Could not decode image\n",
      "Could not decode image\n",
      "Could not decode image\n",
      "Could not decode image\n"
     ]
    },
    {
     "name": "stdout",
     "output_type": "stream",
     "text": [
      "SNR=0,bw=0.16666666666666666,k=1536,n=4608,m=64,PSNR=6.57,SSIM=0.12\n"
     ]
    },
    {
     "data": {
      "application/vnd.jupyter.widget-view+json": {
       "model_id": "d26266c358974f3cb8b0e8d653982501",
       "version_major": 2,
       "version_minor": 0
      },
      "text/plain": [
       "  0%|          | 0/10 [00:00<?, ?it/s]"
      ]
     },
     "metadata": {},
     "output_type": "display_data"
    },
    {
     "name": "stdout",
     "output_type": "stream",
     "text": [
      "SNR=2,bw=0.16666666666666666,k=3072,n=6144,m=2,PSNR=21.66,SSIM=0.72\n"
     ]
    },
    {
     "data": {
      "application/vnd.jupyter.widget-view+json": {
       "model_id": "13207d0d956a4ec1a69cc797c55ade3a",
       "version_major": 2,
       "version_minor": 0
      },
      "text/plain": [
       "  0%|          | 0/10 [00:00<?, ?it/s]"
      ]
     },
     "metadata": {},
     "output_type": "display_data"
    },
    {
     "name": "stdout",
     "output_type": "stream",
     "text": [
      "SNR=2,bw=0.16666666666666666,k=3072,n=6144,m=4,PSNR=24.13,SSIM=0.82\n"
     ]
    },
    {
     "data": {
      "application/vnd.jupyter.widget-view+json": {
       "model_id": "003743c979c1458cb90c9054164c63c6",
       "version_major": 2,
       "version_minor": 0
      },
      "text/plain": [
       "  0%|          | 0/10 [00:00<?, ?it/s]"
      ]
     },
     "metadata": {},
     "output_type": "display_data"
    },
    {
     "name": "stderr",
     "output_type": "stream",
     "text": [
      "Could not decode image\n",
      "Could not decode image\n",
      "Could not decode image\n",
      "Could not decode image\n",
      "Could not decode image\n",
      "Could not decode image\n",
      "Could not decode image\n",
      "Could not decode image\n",
      "Could not decode image\n",
      "Could not decode image\n"
     ]
    },
    {
     "name": "stdout",
     "output_type": "stream",
     "text": [
      "SNR=2,bw=0.16666666666666666,k=3072,n=6144,m=16,PSNR=6.57,SSIM=0.12\n"
     ]
    },
    {
     "data": {
      "application/vnd.jupyter.widget-view+json": {
       "model_id": "1dea0b08e11f44bab3cee2a2c5b0e053",
       "version_major": 2,
       "version_minor": 0
      },
      "text/plain": [
       "  0%|          | 0/10 [00:00<?, ?it/s]"
      ]
     },
     "metadata": {},
     "output_type": "display_data"
    },
    {
     "name": "stderr",
     "output_type": "stream",
     "text": [
      "Could not decode image\n",
      "Could not decode image\n",
      "Could not decode image\n",
      "Could not decode image\n",
      "Could not decode image\n",
      "Could not decode image\n",
      "Could not decode image\n",
      "Could not decode image\n",
      "Could not decode image\n",
      "Could not decode image\n"
     ]
    },
    {
     "name": "stdout",
     "output_type": "stream",
     "text": [
      "SNR=2,bw=0.16666666666666666,k=3072,n=6144,m=64,PSNR=6.57,SSIM=0.12\n"
     ]
    },
    {
     "data": {
      "application/vnd.jupyter.widget-view+json": {
       "model_id": "4b8d2184bd1142d0aeadb34c689bc23d",
       "version_major": 2,
       "version_minor": 0
      },
      "text/plain": [
       "  0%|          | 0/10 [00:00<?, ?it/s]"
      ]
     },
     "metadata": {},
     "output_type": "display_data"
    },
    {
     "name": "stdout",
     "output_type": "stream",
     "text": [
      "SNR=2,bw=0.16666666666666666,k=3072,n=4608,m=2,PSNR=22.26,SSIM=0.75\n"
     ]
    },
    {
     "data": {
      "application/vnd.jupyter.widget-view+json": {
       "model_id": "d11a20e726fc424b98e4f1c3a34d1d18",
       "version_major": 2,
       "version_minor": 0
      },
      "text/plain": [
       "  0%|          | 0/10 [00:00<?, ?it/s]"
      ]
     },
     "metadata": {},
     "output_type": "display_data"
    },
    {
     "name": "stderr",
     "output_type": "stream",
     "text": [
      "Could not decode image\n",
      "Could not decode image\n",
      "Could not decode image\n",
      "Could not decode image\n",
      "Could not decode image\n",
      "Could not decode image\n",
      "Could not decode image\n",
      "Could not decode image\n",
      "Could not decode image\n",
      "Could not decode image\n"
     ]
    },
    {
     "name": "stdout",
     "output_type": "stream",
     "text": [
      "SNR=2,bw=0.16666666666666666,k=3072,n=4608,m=4,PSNR=6.57,SSIM=0.12\n"
     ]
    },
    {
     "data": {
      "application/vnd.jupyter.widget-view+json": {
       "model_id": "61b9e299a64a49568938fe834cf37d98",
       "version_major": 2,
       "version_minor": 0
      },
      "text/plain": [
       "  0%|          | 0/10 [00:00<?, ?it/s]"
      ]
     },
     "metadata": {},
     "output_type": "display_data"
    },
    {
     "name": "stderr",
     "output_type": "stream",
     "text": [
      "Could not decode image\n",
      "Could not decode image\n",
      "Could not decode image\n",
      "Could not decode image\n",
      "Could not decode image\n",
      "Could not decode image\n",
      "Could not decode image\n",
      "Could not decode image\n",
      "Could not decode image\n"
     ]
    },
    {
     "name": "stdout",
     "output_type": "stream",
     "text": [
      "SNR=2,bw=0.16666666666666666,k=3072,n=4608,m=16,PSNR=6.57,SSIM=0.12\n"
     ]
    },
    {
     "name": "stderr",
     "output_type": "stream",
     "text": [
      "Could not decode image\n"
     ]
    },
    {
     "data": {
      "application/vnd.jupyter.widget-view+json": {
       "model_id": "84f65769233740d88e6b97397e1c7a7d",
       "version_major": 2,
       "version_minor": 0
      },
      "text/plain": [
       "  0%|          | 0/10 [00:00<?, ?it/s]"
      ]
     },
     "metadata": {},
     "output_type": "display_data"
    },
    {
     "name": "stderr",
     "output_type": "stream",
     "text": [
      "Could not decode image\n",
      "Could not decode image\n",
      "Could not decode image\n",
      "Could not decode image\n",
      "Could not decode image\n",
      "Could not decode image\n",
      "Could not decode image\n",
      "Could not decode image\n",
      "Could not decode image\n"
     ]
    },
    {
     "name": "stdout",
     "output_type": "stream",
     "text": [
      "SNR=2,bw=0.16666666666666666,k=3072,n=4608,m=64,PSNR=6.57,SSIM=0.12\n"
     ]
    },
    {
     "name": "stderr",
     "output_type": "stream",
     "text": [
      "Could not decode image\n"
     ]
    },
    {
     "data": {
      "application/vnd.jupyter.widget-view+json": {
       "model_id": "128e246e1a504f03a7f8674a9ec715a7",
       "version_major": 2,
       "version_minor": 0
      },
      "text/plain": [
       "  0%|          | 0/10 [00:00<?, ?it/s]"
      ]
     },
     "metadata": {},
     "output_type": "display_data"
    },
    {
     "name": "stdout",
     "output_type": "stream",
     "text": [
      "SNR=2,bw=0.16666666666666666,k=1536,n=4608,m=2,PSNR=20.05,SSIM=0.62\n"
     ]
    },
    {
     "data": {
      "application/vnd.jupyter.widget-view+json": {
       "model_id": "7999ebacb9c041dfbe34d53cf4fc2239",
       "version_major": 2,
       "version_minor": 0
      },
      "text/plain": [
       "  0%|          | 0/10 [00:00<?, ?it/s]"
      ]
     },
     "metadata": {},
     "output_type": "display_data"
    },
    {
     "name": "stdout",
     "output_type": "stream",
     "text": [
      "SNR=2,bw=0.16666666666666666,k=1536,n=4608,m=4,PSNR=22.31,SSIM=0.75\n"
     ]
    },
    {
     "data": {
      "application/vnd.jupyter.widget-view+json": {
       "model_id": "202b855f174b49e1810a8b49beb8ee56",
       "version_major": 2,
       "version_minor": 0
      },
      "text/plain": [
       "  0%|          | 0/10 [00:00<?, ?it/s]"
      ]
     },
     "metadata": {},
     "output_type": "display_data"
    },
    {
     "name": "stderr",
     "output_type": "stream",
     "text": [
      "Could not decode image\n",
      "Could not decode image\n",
      "Could not decode image\n",
      "Could not decode image\n",
      "Could not decode image\n",
      "Could not decode image\n",
      "Could not decode image\n",
      "Could not decode image\n",
      "Could not decode image\n"
     ]
    },
    {
     "name": "stdout",
     "output_type": "stream",
     "text": [
      "SNR=2,bw=0.16666666666666666,k=1536,n=4608,m=16,PSNR=6.57,SSIM=0.12\n"
     ]
    },
    {
     "name": "stderr",
     "output_type": "stream",
     "text": [
      "Could not decode image\n"
     ]
    },
    {
     "data": {
      "application/vnd.jupyter.widget-view+json": {
       "model_id": "2b44037e91d24347ae5290d08d5ec285",
       "version_major": 2,
       "version_minor": 0
      },
      "text/plain": [
       "  0%|          | 0/10 [00:00<?, ?it/s]"
      ]
     },
     "metadata": {},
     "output_type": "display_data"
    },
    {
     "name": "stderr",
     "output_type": "stream",
     "text": [
      "Could not decode image\n",
      "Could not decode image\n",
      "Could not decode image\n",
      "Could not decode image\n",
      "Could not decode image\n",
      "Could not decode image\n",
      "Could not decode image\n",
      "Could not decode image\n",
      "Could not decode image\n",
      "Could not decode image\n"
     ]
    },
    {
     "name": "stdout",
     "output_type": "stream",
     "text": [
      "SNR=2,bw=0.16666666666666666,k=1536,n=4608,m=64,PSNR=6.57,SSIM=0.12\n"
     ]
    },
    {
     "data": {
      "application/vnd.jupyter.widget-view+json": {
       "model_id": "a051670a9c06427fa4ea6cdfd69b515f",
       "version_major": 2,
       "version_minor": 0
      },
      "text/plain": [
       "  0%|          | 0/10 [00:00<?, ?it/s]"
      ]
     },
     "metadata": {},
     "output_type": "display_data"
    },
    {
     "name": "stdout",
     "output_type": "stream",
     "text": [
      "SNR=5,bw=0.16666666666666666,k=3072,n=6144,m=2,PSNR=21.66,SSIM=0.72\n"
     ]
    },
    {
     "data": {
      "application/vnd.jupyter.widget-view+json": {
       "model_id": "e5aca592cfc24a2f9ec746f0ee93f5ad",
       "version_major": 2,
       "version_minor": 0
      },
      "text/plain": [
       "  0%|          | 0/10 [00:00<?, ?it/s]"
      ]
     },
     "metadata": {},
     "output_type": "display_data"
    },
    {
     "name": "stdout",
     "output_type": "stream",
     "text": [
      "SNR=5,bw=0.16666666666666666,k=3072,n=6144,m=4,PSNR=24.13,SSIM=0.82\n"
     ]
    },
    {
     "data": {
      "application/vnd.jupyter.widget-view+json": {
       "model_id": "140bc4ce308845f6ac413e61a1707a47",
       "version_major": 2,
       "version_minor": 0
      },
      "text/plain": [
       "  0%|          | 0/10 [00:00<?, ?it/s]"
      ]
     },
     "metadata": {},
     "output_type": "display_data"
    },
    {
     "name": "stderr",
     "output_type": "stream",
     "text": [
      "Could not decode image\n",
      "Could not decode image\n",
      "Could not decode image\n",
      "Could not decode image\n",
      "Could not decode image\n",
      "Could not decode image\n",
      "Could not decode image\n",
      "Could not decode image\n",
      "Could not decode image\n",
      "Could not decode image\n"
     ]
    },
    {
     "name": "stdout",
     "output_type": "stream",
     "text": [
      "SNR=5,bw=0.16666666666666666,k=3072,n=6144,m=16,PSNR=6.57,SSIM=0.12\n"
     ]
    },
    {
     "data": {
      "application/vnd.jupyter.widget-view+json": {
       "model_id": "f57c5d2aea714fd4856976887c0aad9f",
       "version_major": 2,
       "version_minor": 0
      },
      "text/plain": [
       "  0%|          | 0/10 [00:00<?, ?it/s]"
      ]
     },
     "metadata": {},
     "output_type": "display_data"
    },
    {
     "name": "stderr",
     "output_type": "stream",
     "text": [
      "Could not decode image\n",
      "Could not decode image\n",
      "Could not decode image\n",
      "Could not decode image\n",
      "Could not decode image\n",
      "Could not decode image\n",
      "Could not decode image\n",
      "Could not decode image\n",
      "Could not decode image\n",
      "Could not decode image\n"
     ]
    },
    {
     "name": "stdout",
     "output_type": "stream",
     "text": [
      "SNR=5,bw=0.16666666666666666,k=3072,n=6144,m=64,PSNR=6.57,SSIM=0.12\n"
     ]
    },
    {
     "data": {
      "application/vnd.jupyter.widget-view+json": {
       "model_id": "0c2abf777803443db1ccb393f1000fed",
       "version_major": 2,
       "version_minor": 0
      },
      "text/plain": [
       "  0%|          | 0/10 [00:00<?, ?it/s]"
      ]
     },
     "metadata": {},
     "output_type": "display_data"
    },
    {
     "name": "stdout",
     "output_type": "stream",
     "text": [
      "SNR=5,bw=0.16666666666666666,k=3072,n=4608,m=2,PSNR=22.37,SSIM=0.75\n"
     ]
    },
    {
     "data": {
      "application/vnd.jupyter.widget-view+json": {
       "model_id": "cd527a85bd93495faa75e43e59bb6869",
       "version_major": 2,
       "version_minor": 0
      },
      "text/plain": [
       "  0%|          | 0/10 [00:00<?, ?it/s]"
      ]
     },
     "metadata": {},
     "output_type": "display_data"
    },
    {
     "name": "stdout",
     "output_type": "stream",
     "text": [
      "SNR=5,bw=0.16666666666666666,k=3072,n=4608,m=4,PSNR=25.42,SSIM=0.86\n"
     ]
    },
    {
     "data": {
      "application/vnd.jupyter.widget-view+json": {
       "model_id": "ddebbc03075f4abb84fcab239960ace4",
       "version_major": 2,
       "version_minor": 0
      },
      "text/plain": [
       "  0%|          | 0/10 [00:00<?, ?it/s]"
      ]
     },
     "metadata": {},
     "output_type": "display_data"
    },
    {
     "name": "stderr",
     "output_type": "stream",
     "text": [
      "Could not decode image\n",
      "Could not decode image\n",
      "Could not decode image\n",
      "Could not decode image\n",
      "Could not decode image\n",
      "Could not decode image\n",
      "Could not decode image\n",
      "Could not decode image\n",
      "Could not decode image\n",
      "Could not decode image\n"
     ]
    },
    {
     "name": "stdout",
     "output_type": "stream",
     "text": [
      "SNR=5,bw=0.16666666666666666,k=3072,n=4608,m=16,PSNR=6.57,SSIM=0.12\n"
     ]
    },
    {
     "data": {
      "application/vnd.jupyter.widget-view+json": {
       "model_id": "f0ee51b0ce584ad7b24e983b412ae7bd",
       "version_major": 2,
       "version_minor": 0
      },
      "text/plain": [
       "  0%|          | 0/10 [00:00<?, ?it/s]"
      ]
     },
     "metadata": {},
     "output_type": "display_data"
    },
    {
     "name": "stderr",
     "output_type": "stream",
     "text": [
      "Could not decode image\n",
      "Could not decode image\n",
      "Could not decode image\n",
      "Could not decode image\n",
      "Could not decode image\n",
      "Could not decode image\n",
      "Could not decode image\n",
      "Could not decode image\n",
      "Could not decode image\n"
     ]
    },
    {
     "name": "stdout",
     "output_type": "stream",
     "text": [
      "SNR=5,bw=0.16666666666666666,k=3072,n=4608,m=64,PSNR=6.57,SSIM=0.12\n"
     ]
    },
    {
     "name": "stderr",
     "output_type": "stream",
     "text": [
      "Could not decode image\n"
     ]
    },
    {
     "data": {
      "application/vnd.jupyter.widget-view+json": {
       "model_id": "af2de2b4e12e41f595dabec771b6214e",
       "version_major": 2,
       "version_minor": 0
      },
      "text/plain": [
       "  0%|          | 0/10 [00:00<?, ?it/s]"
      ]
     },
     "metadata": {},
     "output_type": "display_data"
    },
    {
     "name": "stdout",
     "output_type": "stream",
     "text": [
      "SNR=5,bw=0.16666666666666666,k=1536,n=4608,m=2,PSNR=20.11,SSIM=0.63\n"
     ]
    },
    {
     "data": {
      "application/vnd.jupyter.widget-view+json": {
       "model_id": "f72c87ce99e44edb8a3a93592dd22680",
       "version_major": 2,
       "version_minor": 0
      },
      "text/plain": [
       "  0%|          | 0/10 [00:00<?, ?it/s]"
      ]
     },
     "metadata": {},
     "output_type": "display_data"
    },
    {
     "name": "stdout",
     "output_type": "stream",
     "text": [
      "SNR=5,bw=0.16666666666666666,k=1536,n=4608,m=4,PSNR=22.26,SSIM=0.75\n"
     ]
    },
    {
     "data": {
      "application/vnd.jupyter.widget-view+json": {
       "model_id": "fd7992e113ec40dba577d6807526467e",
       "version_major": 2,
       "version_minor": 0
      },
      "text/plain": [
       "  0%|          | 0/10 [00:00<?, ?it/s]"
      ]
     },
     "metadata": {},
     "output_type": "display_data"
    },
    {
     "name": "stdout",
     "output_type": "stream",
     "text": [
      "SNR=5,bw=0.16666666666666666,k=1536,n=4608,m=16,PSNR=25.43,SSIM=0.86\n"
     ]
    },
    {
     "data": {
      "application/vnd.jupyter.widget-view+json": {
       "model_id": "1aeef8ac864c4416acd054e064f0444c",
       "version_major": 2,
       "version_minor": 0
      },
      "text/plain": [
       "  0%|          | 0/10 [00:00<?, ?it/s]"
      ]
     },
     "metadata": {},
     "output_type": "display_data"
    },
    {
     "name": "stderr",
     "output_type": "stream",
     "text": [
      "Could not decode image\n",
      "Could not decode image\n",
      "Could not decode image\n",
      "Could not decode image\n",
      "Could not decode image\n",
      "Could not decode image\n",
      "Could not decode image\n",
      "Could not decode image\n",
      "Could not decode image\n",
      "Could not decode image\n"
     ]
    },
    {
     "name": "stdout",
     "output_type": "stream",
     "text": [
      "SNR=5,bw=0.16666666666666666,k=1536,n=4608,m=64,PSNR=6.57,SSIM=0.12\n"
     ]
    },
    {
     "data": {
      "application/vnd.jupyter.widget-view+json": {
       "model_id": "93edfb3eca384f36a6a480c89ee620e1",
       "version_major": 2,
       "version_minor": 0
      },
      "text/plain": [
       "  0%|          | 0/10 [00:00<?, ?it/s]"
      ]
     },
     "metadata": {},
     "output_type": "display_data"
    },
    {
     "name": "stdout",
     "output_type": "stream",
     "text": [
      "SNR=7,bw=0.16666666666666666,k=3072,n=6144,m=2,PSNR=21.66,SSIM=0.72\n"
     ]
    },
    {
     "data": {
      "application/vnd.jupyter.widget-view+json": {
       "model_id": "cf2e45476b7846e5b5a66333b6ea7bbe",
       "version_major": 2,
       "version_minor": 0
      },
      "text/plain": [
       "  0%|          | 0/10 [00:00<?, ?it/s]"
      ]
     },
     "metadata": {},
     "output_type": "display_data"
    },
    {
     "name": "stdout",
     "output_type": "stream",
     "text": [
      "SNR=7,bw=0.16666666666666666,k=3072,n=6144,m=4,PSNR=24.13,SSIM=0.82\n"
     ]
    },
    {
     "data": {
      "application/vnd.jupyter.widget-view+json": {
       "model_id": "e89e821c589f4654b4e690d029ceaa0f",
       "version_major": 2,
       "version_minor": 0
      },
      "text/plain": [
       "  0%|          | 0/10 [00:00<?, ?it/s]"
      ]
     },
     "metadata": {},
     "output_type": "display_data"
    },
    {
     "name": "stdout",
     "output_type": "stream",
     "text": [
      "SNR=7,bw=0.16666666666666666,k=3072,n=6144,m=16,PSNR=27.86,SSIM=0.92\n"
     ]
    },
    {
     "data": {
      "application/vnd.jupyter.widget-view+json": {
       "model_id": "3a1d6d5cf8684b9ba21354cbc70484dd",
       "version_major": 2,
       "version_minor": 0
      },
      "text/plain": [
       "  0%|          | 0/10 [00:00<?, ?it/s]"
      ]
     },
     "metadata": {},
     "output_type": "display_data"
    },
    {
     "name": "stderr",
     "output_type": "stream",
     "text": [
      "Could not decode image\n",
      "Could not decode image\n",
      "Could not decode image\n",
      "Could not decode image\n",
      "Could not decode image\n",
      "Could not decode image\n",
      "Could not decode image\n",
      "Could not decode image\n",
      "Could not decode image\n"
     ]
    },
    {
     "name": "stdout",
     "output_type": "stream",
     "text": [
      "SNR=7,bw=0.16666666666666666,k=3072,n=6144,m=64,PSNR=6.57,SSIM=0.12\n"
     ]
    },
    {
     "name": "stderr",
     "output_type": "stream",
     "text": [
      "Could not decode image\n"
     ]
    },
    {
     "data": {
      "application/vnd.jupyter.widget-view+json": {
       "model_id": "3f3a057449fe4b5c9cc0776620da183e",
       "version_major": 2,
       "version_minor": 0
      },
      "text/plain": [
       "  0%|          | 0/10 [00:00<?, ?it/s]"
      ]
     },
     "metadata": {},
     "output_type": "display_data"
    },
    {
     "name": "stdout",
     "output_type": "stream",
     "text": [
      "SNR=7,bw=0.16666666666666666,k=3072,n=4608,m=2,PSNR=22.31,SSIM=0.75\n"
     ]
    },
    {
     "data": {
      "application/vnd.jupyter.widget-view+json": {
       "model_id": "f31b9d9f86164d358a188bc5539e7401",
       "version_major": 2,
       "version_minor": 0
      },
      "text/plain": [
       "  0%|          | 0/10 [00:00<?, ?it/s]"
      ]
     },
     "metadata": {},
     "output_type": "display_data"
    },
    {
     "name": "stdout",
     "output_type": "stream",
     "text": [
      "SNR=7,bw=0.16666666666666666,k=3072,n=4608,m=4,PSNR=25.42,SSIM=0.86\n"
     ]
    },
    {
     "data": {
      "application/vnd.jupyter.widget-view+json": {
       "model_id": "9e8eff9ddd4e42a4bd04b265fe2d908a",
       "version_major": 2,
       "version_minor": 0
      },
      "text/plain": [
       "  0%|          | 0/10 [00:00<?, ?it/s]"
      ]
     },
     "metadata": {},
     "output_type": "display_data"
    },
    {
     "name": "stderr",
     "output_type": "stream",
     "text": [
      "Could not decode image\n",
      "Could not decode image\n",
      "Could not decode image\n",
      "Could not decode image\n",
      "Could not decode image\n",
      "Could not decode image\n",
      "Could not decode image\n",
      "Could not decode image\n",
      "Could not decode image\n"
     ]
    },
    {
     "name": "stdout",
     "output_type": "stream",
     "text": [
      "SNR=7,bw=0.16666666666666666,k=3072,n=4608,m=16,PSNR=6.57,SSIM=0.12\n"
     ]
    },
    {
     "name": "stderr",
     "output_type": "stream",
     "text": [
      "Could not decode image\n"
     ]
    },
    {
     "data": {
      "application/vnd.jupyter.widget-view+json": {
       "model_id": "4babf5dd14e04181a167c5e0d3ddc818",
       "version_major": 2,
       "version_minor": 0
      },
      "text/plain": [
       "  0%|          | 0/10 [00:00<?, ?it/s]"
      ]
     },
     "metadata": {},
     "output_type": "display_data"
    },
    {
     "name": "stderr",
     "output_type": "stream",
     "text": [
      "Could not decode image\n",
      "Could not decode image\n",
      "Could not decode image\n",
      "Could not decode image\n",
      "Could not decode image\n",
      "Could not decode image\n",
      "Could not decode image\n",
      "Could not decode image\n",
      "Could not decode image\n"
     ]
    },
    {
     "name": "stdout",
     "output_type": "stream",
     "text": [
      "SNR=7,bw=0.16666666666666666,k=3072,n=4608,m=64,PSNR=6.57,SSIM=0.12\n"
     ]
    },
    {
     "name": "stderr",
     "output_type": "stream",
     "text": [
      "Could not decode image\n"
     ]
    },
    {
     "data": {
      "application/vnd.jupyter.widget-view+json": {
       "model_id": "7fe8ca69d8d849bb9ae43dfe1452ffa9",
       "version_major": 2,
       "version_minor": 0
      },
      "text/plain": [
       "  0%|          | 0/10 [00:00<?, ?it/s]"
      ]
     },
     "metadata": {},
     "output_type": "display_data"
    },
    {
     "name": "stdout",
     "output_type": "stream",
     "text": [
      "SNR=7,bw=0.16666666666666666,k=1536,n=4608,m=2,PSNR=20.06,SSIM=0.62\n"
     ]
    },
    {
     "data": {
      "application/vnd.jupyter.widget-view+json": {
       "model_id": "5a382f19e4694e23afbf6057d25c6639",
       "version_major": 2,
       "version_minor": 0
      },
      "text/plain": [
       "  0%|          | 0/10 [00:00<?, ?it/s]"
      ]
     },
     "metadata": {},
     "output_type": "display_data"
    },
    {
     "name": "stdout",
     "output_type": "stream",
     "text": [
      "SNR=7,bw=0.16666666666666666,k=1536,n=4608,m=4,PSNR=22.32,SSIM=0.75\n"
     ]
    },
    {
     "data": {
      "application/vnd.jupyter.widget-view+json": {
       "model_id": "3ca309df36834d829e79b26adc679f3f",
       "version_major": 2,
       "version_minor": 0
      },
      "text/plain": [
       "  0%|          | 0/10 [00:00<?, ?it/s]"
      ]
     },
     "metadata": {},
     "output_type": "display_data"
    },
    {
     "name": "stdout",
     "output_type": "stream",
     "text": [
      "SNR=7,bw=0.16666666666666666,k=1536,n=4608,m=16,PSNR=25.43,SSIM=0.86\n"
     ]
    },
    {
     "data": {
      "application/vnd.jupyter.widget-view+json": {
       "model_id": "4e5e4ca3eb25461fa55dcc1062a6ce83",
       "version_major": 2,
       "version_minor": 0
      },
      "text/plain": [
       "  0%|          | 0/10 [00:00<?, ?it/s]"
      ]
     },
     "metadata": {},
     "output_type": "display_data"
    },
    {
     "name": "stderr",
     "output_type": "stream",
     "text": [
      "Could not decode image\n",
      "Could not decode image\n"
     ]
    },
    {
     "name": "stdout",
     "output_type": "stream",
     "text": [
      "SNR=7,bw=0.16666666666666666,k=1536,n=4608,m=64,PSNR=7.19,SSIM=0.07\n"
     ]
    },
    {
     "data": {
      "application/vnd.jupyter.widget-view+json": {
       "model_id": "954e6eedc29045ce85dc2b7cac064a6e",
       "version_major": 2,
       "version_minor": 0
      },
      "text/plain": [
       "  0%|          | 0/10 [00:00<?, ?it/s]"
      ]
     },
     "metadata": {},
     "output_type": "display_data"
    },
    {
     "name": "stdout",
     "output_type": "stream",
     "text": [
      "SNR=10,bw=0.16666666666666666,k=3072,n=6144,m=2,PSNR=21.66,SSIM=0.72\n"
     ]
    },
    {
     "data": {
      "application/vnd.jupyter.widget-view+json": {
       "model_id": "16853364eb1c444081b3190b3ea29dc1",
       "version_major": 2,
       "version_minor": 0
      },
      "text/plain": [
       "  0%|          | 0/10 [00:00<?, ?it/s]"
      ]
     },
     "metadata": {},
     "output_type": "display_data"
    },
    {
     "name": "stdout",
     "output_type": "stream",
     "text": [
      "SNR=10,bw=0.16666666666666666,k=3072,n=6144,m=4,PSNR=24.13,SSIM=0.82\n"
     ]
    },
    {
     "data": {
      "application/vnd.jupyter.widget-view+json": {
       "model_id": "9a5afd42d3d94285a782efc58464e1e2",
       "version_major": 2,
       "version_minor": 0
      },
      "text/plain": [
       "  0%|          | 0/10 [00:00<?, ?it/s]"
      ]
     },
     "metadata": {},
     "output_type": "display_data"
    },
    {
     "name": "stdout",
     "output_type": "stream",
     "text": [
      "SNR=10,bw=0.16666666666666666,k=3072,n=6144,m=16,PSNR=27.89,SSIM=0.91\n"
     ]
    },
    {
     "data": {
      "application/vnd.jupyter.widget-view+json": {
       "model_id": "01f7f149e1154881bf594ad3338dd7bd",
       "version_major": 2,
       "version_minor": 0
      },
      "text/plain": [
       "  0%|          | 0/10 [00:00<?, ?it/s]"
      ]
     },
     "metadata": {},
     "output_type": "display_data"
    },
    {
     "name": "stderr",
     "output_type": "stream",
     "text": [
      "Could not decode image\n",
      "Could not decode image\n",
      "Could not decode image\n",
      "Could not decode image\n",
      "Could not decode image\n",
      "Could not decode image\n",
      "Could not decode image\n",
      "Could not decode image\n",
      "Could not decode image\n"
     ]
    },
    {
     "name": "stdout",
     "output_type": "stream",
     "text": [
      "SNR=10,bw=0.16666666666666666,k=3072,n=6144,m=64,PSNR=6.57,SSIM=0.12\n"
     ]
    },
    {
     "name": "stderr",
     "output_type": "stream",
     "text": [
      "Could not decode image\n"
     ]
    },
    {
     "data": {
      "application/vnd.jupyter.widget-view+json": {
       "model_id": "8e233f59193642b3957d5d7c4d28870f",
       "version_major": 2,
       "version_minor": 0
      },
      "text/plain": [
       "  0%|          | 0/10 [00:00<?, ?it/s]"
      ]
     },
     "metadata": {},
     "output_type": "display_data"
    },
    {
     "name": "stdout",
     "output_type": "stream",
     "text": [
      "SNR=10,bw=0.16666666666666666,k=3072,n=4608,m=2,PSNR=22.25,SSIM=0.75\n"
     ]
    },
    {
     "data": {
      "application/vnd.jupyter.widget-view+json": {
       "model_id": "cf75fdb2aa634e1d8ee1e5d7c4c6e8a8",
       "version_major": 2,
       "version_minor": 0
      },
      "text/plain": [
       "  0%|          | 0/10 [00:00<?, ?it/s]"
      ]
     },
     "metadata": {},
     "output_type": "display_data"
    },
    {
     "name": "stdout",
     "output_type": "stream",
     "text": [
      "SNR=10,bw=0.16666666666666666,k=3072,n=4608,m=4,PSNR=25.43,SSIM=0.86\n"
     ]
    },
    {
     "data": {
      "application/vnd.jupyter.widget-view+json": {
       "model_id": "d7de8c25d1504fec9c06c4eadf163fa1",
       "version_major": 2,
       "version_minor": 0
      },
      "text/plain": [
       "  0%|          | 0/10 [00:00<?, ?it/s]"
      ]
     },
     "metadata": {},
     "output_type": "display_data"
    },
    {
     "name": "stdout",
     "output_type": "stream",
     "text": [
      "SNR=10,bw=0.16666666666666666,k=3072,n=4608,m=16,PSNR=29.73,SSIM=0.94\n"
     ]
    },
    {
     "data": {
      "application/vnd.jupyter.widget-view+json": {
       "model_id": "67480f1bec894a51bb90888fad634438",
       "version_major": 2,
       "version_minor": 0
      },
      "text/plain": [
       "  0%|          | 0/10 [00:00<?, ?it/s]"
      ]
     },
     "metadata": {},
     "output_type": "display_data"
    },
    {
     "name": "stderr",
     "output_type": "stream",
     "text": [
      "Could not decode image\n",
      "Could not decode image\n",
      "Could not decode image\n",
      "Could not decode image\n",
      "Could not decode image\n",
      "Could not decode image\n",
      "Could not decode image\n",
      "Could not decode image\n",
      "Could not decode image\n"
     ]
    },
    {
     "name": "stdout",
     "output_type": "stream",
     "text": [
      "SNR=10,bw=0.16666666666666666,k=3072,n=4608,m=64,PSNR=6.57,SSIM=0.12\n"
     ]
    },
    {
     "name": "stderr",
     "output_type": "stream",
     "text": [
      "Could not decode image\n"
     ]
    },
    {
     "data": {
      "application/vnd.jupyter.widget-view+json": {
       "model_id": "4dc6203e1ca3442bbf022e3e5052a11f",
       "version_major": 2,
       "version_minor": 0
      },
      "text/plain": [
       "  0%|          | 0/10 [00:00<?, ?it/s]"
      ]
     },
     "metadata": {},
     "output_type": "display_data"
    },
    {
     "name": "stdout",
     "output_type": "stream",
     "text": [
      "SNR=10,bw=0.16666666666666666,k=1536,n=4608,m=2,PSNR=20.05,SSIM=0.62\n"
     ]
    },
    {
     "data": {
      "application/vnd.jupyter.widget-view+json": {
       "model_id": "362f20835304485bb092173b850ef356",
       "version_major": 2,
       "version_minor": 0
      },
      "text/plain": [
       "  0%|          | 0/10 [00:00<?, ?it/s]"
      ]
     },
     "metadata": {},
     "output_type": "display_data"
    },
    {
     "name": "stdout",
     "output_type": "stream",
     "text": [
      "SNR=10,bw=0.16666666666666666,k=1536,n=4608,m=4,PSNR=22.25,SSIM=0.75\n"
     ]
    },
    {
     "data": {
      "application/vnd.jupyter.widget-view+json": {
       "model_id": "28750e3d91df45f78e43dff9e3b5159a",
       "version_major": 2,
       "version_minor": 0
      },
      "text/plain": [
       "  0%|          | 0/10 [00:00<?, ?it/s]"
      ]
     },
     "metadata": {},
     "output_type": "display_data"
    },
    {
     "name": "stdout",
     "output_type": "stream",
     "text": [
      "SNR=10,bw=0.16666666666666666,k=1536,n=4608,m=16,PSNR=25.43,SSIM=0.86\n"
     ]
    },
    {
     "data": {
      "application/vnd.jupyter.widget-view+json": {
       "model_id": "d16b940dca714226b6d1cbca08c8e31d",
       "version_major": 2,
       "version_minor": 0
      },
      "text/plain": [
       "  0%|          | 0/10 [00:00<?, ?it/s]"
      ]
     },
     "metadata": {},
     "output_type": "display_data"
    },
    {
     "name": "stdout",
     "output_type": "stream",
     "text": [
      "SNR=10,bw=0.16666666666666666,k=1536,n=4608,m=64,PSNR=28.04,SSIM=0.92\n"
     ]
    },
    {
     "data": {
      "application/vnd.jupyter.widget-view+json": {
       "model_id": "cd582ae8773c4aeabf95d4fee2d32e98",
       "version_major": 2,
       "version_minor": 0
      },
      "text/plain": [
       "  0%|          | 0/10 [00:00<?, ?it/s]"
      ]
     },
     "metadata": {},
     "output_type": "display_data"
    },
    {
     "name": "stdout",
     "output_type": "stream",
     "text": [
      "SNR=12,bw=0.16666666666666666,k=3072,n=6144,m=2,PSNR=21.66,SSIM=0.72\n"
     ]
    },
    {
     "data": {
      "application/vnd.jupyter.widget-view+json": {
       "model_id": "fa29b2bab49e471d96736f42007e88dd",
       "version_major": 2,
       "version_minor": 0
      },
      "text/plain": [
       "  0%|          | 0/10 [00:00<?, ?it/s]"
      ]
     },
     "metadata": {},
     "output_type": "display_data"
    },
    {
     "name": "stdout",
     "output_type": "stream",
     "text": [
      "SNR=12,bw=0.16666666666666666,k=3072,n=6144,m=4,PSNR=24.14,SSIM=0.82\n"
     ]
    },
    {
     "data": {
      "application/vnd.jupyter.widget-view+json": {
       "model_id": "bee6d125a4454a4d9d23c5a5d7a40571",
       "version_major": 2,
       "version_minor": 0
      },
      "text/plain": [
       "  0%|          | 0/10 [00:00<?, ?it/s]"
      ]
     },
     "metadata": {},
     "output_type": "display_data"
    },
    {
     "name": "stdout",
     "output_type": "stream",
     "text": [
      "SNR=12,bw=0.16666666666666666,k=3072,n=6144,m=16,PSNR=28.04,SSIM=0.92\n"
     ]
    },
    {
     "data": {
      "application/vnd.jupyter.widget-view+json": {
       "model_id": "a537568d35fb45f6a4c047e69a532374",
       "version_major": 2,
       "version_minor": 0
      },
      "text/plain": [
       "  0%|          | 0/10 [00:00<?, ?it/s]"
      ]
     },
     "metadata": {},
     "output_type": "display_data"
    },
    {
     "name": "stdout",
     "output_type": "stream",
     "text": [
      "SNR=12,bw=0.16666666666666666,k=3072,n=6144,m=64,PSNR=30.49,SSIM=0.95\n"
     ]
    },
    {
     "data": {
      "application/vnd.jupyter.widget-view+json": {
       "model_id": "3d2dcd4f9f8742d6a910a28b8dcb1974",
       "version_major": 2,
       "version_minor": 0
      },
      "text/plain": [
       "  0%|          | 0/10 [00:00<?, ?it/s]"
      ]
     },
     "metadata": {},
     "output_type": "display_data"
    },
    {
     "name": "stdout",
     "output_type": "stream",
     "text": [
      "SNR=12,bw=0.16666666666666666,k=3072,n=4608,m=2,PSNR=22.26,SSIM=0.75\n"
     ]
    },
    {
     "data": {
      "application/vnd.jupyter.widget-view+json": {
       "model_id": "0b2dc4658e7741cba2163b5102d35fbd",
       "version_major": 2,
       "version_minor": 0
      },
      "text/plain": [
       "  0%|          | 0/10 [00:00<?, ?it/s]"
      ]
     },
     "metadata": {},
     "output_type": "display_data"
    },
    {
     "name": "stdout",
     "output_type": "stream",
     "text": [
      "SNR=12,bw=0.16666666666666666,k=3072,n=4608,m=4,PSNR=25.43,SSIM=0.86\n"
     ]
    },
    {
     "data": {
      "application/vnd.jupyter.widget-view+json": {
       "model_id": "25f7b6c85a704728823d6a32a44478f6",
       "version_major": 2,
       "version_minor": 0
      },
      "text/plain": [
       "  0%|          | 0/10 [00:00<?, ?it/s]"
      ]
     },
     "metadata": {},
     "output_type": "display_data"
    },
    {
     "name": "stdout",
     "output_type": "stream",
     "text": [
      "SNR=12,bw=0.16666666666666666,k=3072,n=4608,m=16,PSNR=29.73,SSIM=0.94\n"
     ]
    },
    {
     "data": {
      "application/vnd.jupyter.widget-view+json": {
       "model_id": "a2b9258ba4734fc7948c499a6de9f5f8",
       "version_major": 2,
       "version_minor": 0
      },
      "text/plain": [
       "  0%|          | 0/10 [00:00<?, ?it/s]"
      ]
     },
     "metadata": {},
     "output_type": "display_data"
    },
    {
     "name": "stderr",
     "output_type": "stream",
     "text": [
      "Could not decode image\n",
      "Could not decode image\n",
      "Could not decode image\n",
      "Could not decode image\n",
      "Could not decode image\n",
      "Could not decode image\n",
      "Could not decode image\n",
      "Could not decode image\n",
      "Could not decode image\n"
     ]
    },
    {
     "name": "stdout",
     "output_type": "stream",
     "text": [
      "SNR=12,bw=0.16666666666666666,k=3072,n=4608,m=64,PSNR=6.57,SSIM=0.12\n"
     ]
    },
    {
     "name": "stderr",
     "output_type": "stream",
     "text": [
      "Could not decode image\n"
     ]
    },
    {
     "data": {
      "application/vnd.jupyter.widget-view+json": {
       "model_id": "35a37fbf4c69433dad5f4c996a0fa842",
       "version_major": 2,
       "version_minor": 0
      },
      "text/plain": [
       "  0%|          | 0/10 [00:00<?, ?it/s]"
      ]
     },
     "metadata": {},
     "output_type": "display_data"
    },
    {
     "name": "stdout",
     "output_type": "stream",
     "text": [
      "SNR=12,bw=0.16666666666666666,k=1536,n=4608,m=2,PSNR=20.06,SSIM=0.62\n"
     ]
    },
    {
     "data": {
      "application/vnd.jupyter.widget-view+json": {
       "model_id": "9c590a6256fe48f687d1c96eadfcc936",
       "version_major": 2,
       "version_minor": 0
      },
      "text/plain": [
       "  0%|          | 0/10 [00:00<?, ?it/s]"
      ]
     },
     "metadata": {},
     "output_type": "display_data"
    },
    {
     "name": "stdout",
     "output_type": "stream",
     "text": [
      "SNR=12,bw=0.16666666666666666,k=1536,n=4608,m=4,PSNR=22.25,SSIM=0.75\n"
     ]
    },
    {
     "data": {
      "application/vnd.jupyter.widget-view+json": {
       "model_id": "5c3314e08f4049c79af893ddb754bff7",
       "version_major": 2,
       "version_minor": 0
      },
      "text/plain": [
       "  0%|          | 0/10 [00:00<?, ?it/s]"
      ]
     },
     "metadata": {},
     "output_type": "display_data"
    },
    {
     "name": "stdout",
     "output_type": "stream",
     "text": [
      "SNR=12,bw=0.16666666666666666,k=1536,n=4608,m=16,PSNR=25.43,SSIM=0.86\n"
     ]
    },
    {
     "data": {
      "application/vnd.jupyter.widget-view+json": {
       "model_id": "718b3fbc77434886a470a6361d27ea52",
       "version_major": 2,
       "version_minor": 0
      },
      "text/plain": [
       "  0%|          | 0/10 [00:00<?, ?it/s]"
      ]
     },
     "metadata": {},
     "output_type": "display_data"
    },
    {
     "name": "stdout",
     "output_type": "stream",
     "text": [
      "SNR=12,bw=0.16666666666666666,k=1536,n=4608,m=64,PSNR=27.97,SSIM=0.92\n"
     ]
    },
    {
     "data": {
      "application/vnd.jupyter.widget-view+json": {
       "model_id": "352c46ae042541188ac23342a1b03530",
       "version_major": 2,
       "version_minor": 0
      },
      "text/plain": [
       "  0%|          | 0/10 [00:00<?, ?it/s]"
      ]
     },
     "metadata": {},
     "output_type": "display_data"
    },
    {
     "name": "stdout",
     "output_type": "stream",
     "text": [
      "SNR=15,bw=0.16666666666666666,k=3072,n=6144,m=2,PSNR=21.67,SSIM=0.72\n"
     ]
    },
    {
     "data": {
      "application/vnd.jupyter.widget-view+json": {
       "model_id": "83aaf504a7364460b0cc1bbcdfb3a13e",
       "version_major": 2,
       "version_minor": 0
      },
      "text/plain": [
       "  0%|          | 0/10 [00:00<?, ?it/s]"
      ]
     },
     "metadata": {},
     "output_type": "display_data"
    },
    {
     "name": "stdout",
     "output_type": "stream",
     "text": [
      "SNR=15,bw=0.16666666666666666,k=3072,n=6144,m=4,PSNR=24.13,SSIM=0.82\n"
     ]
    },
    {
     "data": {
      "application/vnd.jupyter.widget-view+json": {
       "model_id": "96cbe1aafe6044c396f4bfc2dd7a368f",
       "version_major": 2,
       "version_minor": 0
      },
      "text/plain": [
       "  0%|          | 0/10 [00:00<?, ?it/s]"
      ]
     },
     "metadata": {},
     "output_type": "display_data"
    },
    {
     "name": "stdout",
     "output_type": "stream",
     "text": [
      "SNR=15,bw=0.16666666666666666,k=3072,n=6144,m=16,PSNR=27.97,SSIM=0.92\n"
     ]
    },
    {
     "data": {
      "application/vnd.jupyter.widget-view+json": {
       "model_id": "cf6650c8ce7e41e9912d6fc040d78199",
       "version_major": 2,
       "version_minor": 0
      },
      "text/plain": [
       "  0%|          | 0/10 [00:00<?, ?it/s]"
      ]
     },
     "metadata": {},
     "output_type": "display_data"
    },
    {
     "name": "stdout",
     "output_type": "stream",
     "text": [
      "SNR=15,bw=0.16666666666666666,k=3072,n=6144,m=64,PSNR=30.49,SSIM=0.95\n"
     ]
    },
    {
     "data": {
      "application/vnd.jupyter.widget-view+json": {
       "model_id": "8e7b0af98d6c4bc2a149772965b95cf5",
       "version_major": 2,
       "version_minor": 0
      },
      "text/plain": [
       "  0%|          | 0/10 [00:00<?, ?it/s]"
      ]
     },
     "metadata": {},
     "output_type": "display_data"
    },
    {
     "name": "stdout",
     "output_type": "stream",
     "text": [
      "SNR=15,bw=0.16666666666666666,k=3072,n=4608,m=2,PSNR=22.32,SSIM=0.75\n"
     ]
    },
    {
     "data": {
      "application/vnd.jupyter.widget-view+json": {
       "model_id": "84ca30f278c1461d9aad6843cf853ebb",
       "version_major": 2,
       "version_minor": 0
      },
      "text/plain": [
       "  0%|          | 0/10 [00:00<?, ?it/s]"
      ]
     },
     "metadata": {},
     "output_type": "display_data"
    },
    {
     "name": "stdout",
     "output_type": "stream",
     "text": [
      "SNR=15,bw=0.16666666666666666,k=3072,n=4608,m=4,PSNR=25.43,SSIM=0.86\n"
     ]
    },
    {
     "data": {
      "application/vnd.jupyter.widget-view+json": {
       "model_id": "91e3a68fa57e4a36af0ec829501ebe40",
       "version_major": 2,
       "version_minor": 0
      },
      "text/plain": [
       "  0%|          | 0/10 [00:00<?, ?it/s]"
      ]
     },
     "metadata": {},
     "output_type": "display_data"
    },
    {
     "name": "stdout",
     "output_type": "stream",
     "text": [
      "SNR=15,bw=0.16666666666666666,k=3072,n=4608,m=16,PSNR=29.73,SSIM=0.94\n"
     ]
    },
    {
     "data": {
      "application/vnd.jupyter.widget-view+json": {
       "model_id": "aef3823dff7d478187b929209b3e05b3",
       "version_major": 2,
       "version_minor": 0
      },
      "text/plain": [
       "  0%|          | 0/10 [00:00<?, ?it/s]"
      ]
     },
     "metadata": {},
     "output_type": "display_data"
    },
    {
     "name": "stdout",
     "output_type": "stream",
     "text": [
      "SNR=15,bw=0.16666666666666666,k=3072,n=4608,m=64,PSNR=32.83,SSIM=0.97\n"
     ]
    },
    {
     "data": {
      "application/vnd.jupyter.widget-view+json": {
       "model_id": "f0cb794f46a04279a532887431a6e2ca",
       "version_major": 2,
       "version_minor": 0
      },
      "text/plain": [
       "  0%|          | 0/10 [00:00<?, ?it/s]"
      ]
     },
     "metadata": {},
     "output_type": "display_data"
    },
    {
     "name": "stdout",
     "output_type": "stream",
     "text": [
      "SNR=15,bw=0.16666666666666666,k=1536,n=4608,m=2,PSNR=20.05,SSIM=0.62\n"
     ]
    },
    {
     "data": {
      "application/vnd.jupyter.widget-view+json": {
       "model_id": "0e94b57ae0ac414fa77061ab5f7c820c",
       "version_major": 2,
       "version_minor": 0
      },
      "text/plain": [
       "  0%|          | 0/10 [00:00<?, ?it/s]"
      ]
     },
     "metadata": {},
     "output_type": "display_data"
    },
    {
     "name": "stdout",
     "output_type": "stream",
     "text": [
      "SNR=15,bw=0.16666666666666666,k=1536,n=4608,m=4,PSNR=22.37,SSIM=0.75\n"
     ]
    },
    {
     "data": {
      "application/vnd.jupyter.widget-view+json": {
       "model_id": "d8a30079e2734ea687aa7d94146e4951",
       "version_major": 2,
       "version_minor": 0
      },
      "text/plain": [
       "  0%|          | 0/10 [00:00<?, ?it/s]"
      ]
     },
     "metadata": {},
     "output_type": "display_data"
    },
    {
     "name": "stdout",
     "output_type": "stream",
     "text": [
      "SNR=15,bw=0.16666666666666666,k=1536,n=4608,m=16,PSNR=25.43,SSIM=0.86\n"
     ]
    },
    {
     "data": {
      "application/vnd.jupyter.widget-view+json": {
       "model_id": "3506b66946d1486a869a65c4a9f804c3",
       "version_major": 2,
       "version_minor": 0
      },
      "text/plain": [
       "  0%|          | 0/10 [00:00<?, ?it/s]"
      ]
     },
     "metadata": {},
     "output_type": "display_data"
    },
    {
     "name": "stdout",
     "output_type": "stream",
     "text": [
      "SNR=15,bw=0.16666666666666666,k=1536,n=4608,m=64,PSNR=27.96,SSIM=0.92\n"
     ]
    }
   ],
   "source": [
    "# BPG + LDPC (1/6 BW ratio)\n",
    "from tqdm.auto import tqdm\n",
    "\n",
    "bpgencoder = BPGEncoder()\n",
    "bpgdecoder = BPGDecoder()\n",
    "\n",
    "bw_ratio = [1/6]\n",
    "snrs = [0, 2, 5, 7, 10, 12, 15]\n",
    "mcs = [(k, n, m) for k, n in [(3072, 6144), (3072, 4608), (1536, 4608)] for m in (2, 4, 16, 64)]\n",
    "'''\n",
    "(3072, 6144), (3072, 4608), (1536, 4608)\n",
    "BPSK, 4-QAM, 16-QAM, 64-QAM\n",
    "'''\n",
    "\n",
    "for esno_db in snrs:\n",
    "    for bw in bw_ratio:\n",
    "        for k, n, m in mcs:\n",
    "            i = 0\n",
    "            psnr = 0\n",
    "            ssim = 0\n",
    "            total_images = 0\n",
    "            ldpctransmitter = LDPCTransmitter(k, n, m, esno_db, 'AWGN')\n",
    "            for image, _ in tqdm(test_ds):\n",
    "                b, _, _, _ = image.shape\n",
    "                image = tf.cast(imBatchtoImage(image), tf.uint8)\n",
    "                max_bytes = b * 32 * 32 * 3 * bw * math.log2(m) * k / n / 8\n",
    "                src_bits = bpgencoder.encode(image.numpy(), max_bytes)\n",
    "                rcv_bits = ldpctransmitter.send(src_bits)\n",
    "                \n",
    "                decoded_image = bpgdecoder.decode(rcv_bits.numpy(), image.shape)\n",
    "                total_images += b\n",
    "                psnr = (total_images - b) / (total_images) * psnr + float(b * tf.image.psnr(decoded_image, image, max_val=255)) / (total_images)\n",
    "                ssim = (total_images - b) / (total_images) * ssim + float(b * tf.image.ssim(tf.cast(decoded_image, dtype=tf.float32), tf.cast(image, dtype=tf.float32), max_val=255)) / (total_images)\n",
    "\n",
    "            print(f'SNR={esno_db},bw={bw},k={k},n={n},m={m},PSNR={psnr:.2f},SSIM={ssim:.2f}')\n"
   ]
  },
  {
   "cell_type": "code",
   "execution_count": 8,
   "metadata": {},
   "outputs": [
    {
     "data": {
      "application/vnd.jupyter.widget-view+json": {
       "model_id": "ed15c3172da9499680ff1b040fe6c25c",
       "version_major": 2,
       "version_minor": 0
      },
      "text/plain": [
       "  0%|          | 0/10 [00:00<?, ?it/s]"
      ]
     },
     "metadata": {},
     "output_type": "display_data"
    },
    {
     "name": "stdout",
     "output_type": "stream",
     "text": [
      "SNR=0,bw=0.16666666666666666,PSNR=24.13,SSIM=0.82\n"
     ]
    },
    {
     "data": {
      "application/vnd.jupyter.widget-view+json": {
       "model_id": "3370c459374d46db86a04dbd6c95608b",
       "version_major": 2,
       "version_minor": 0
      },
      "text/plain": [
       "  0%|          | 0/10 [00:00<?, ?it/s]"
      ]
     },
     "metadata": {},
     "output_type": "display_data"
    },
    {
     "name": "stdout",
     "output_type": "stream",
     "text": [
      "SNR=2,bw=0.16666666666666666,PSNR=25.65,SSIM=0.87\n"
     ]
    },
    {
     "data": {
      "application/vnd.jupyter.widget-view+json": {
       "model_id": "5cbf10e82d7f44d0b3f46be1bb6b912b",
       "version_major": 2,
       "version_minor": 0
      },
      "text/plain": [
       "  0%|          | 0/10 [00:00<?, ?it/s]"
      ]
     },
     "metadata": {},
     "output_type": "display_data"
    },
    {
     "name": "stdout",
     "output_type": "stream",
     "text": [
      "SNR=5,bw=0.16666666666666666,PSNR=28.24,SSIM=0.92\n"
     ]
    },
    {
     "data": {
      "application/vnd.jupyter.widget-view+json": {
       "model_id": "ef4875f100f7498685e6fed03cce70aa",
       "version_major": 2,
       "version_minor": 0
      },
      "text/plain": [
       "  0%|          | 0/10 [00:00<?, ?it/s]"
      ]
     },
     "metadata": {},
     "output_type": "display_data"
    },
    {
     "name": "stdout",
     "output_type": "stream",
     "text": [
      "SNR=7,bw=0.16666666666666666,PSNR=29.72,SSIM=0.94\n"
     ]
    },
    {
     "data": {
      "application/vnd.jupyter.widget-view+json": {
       "model_id": "dd66adb328aa42bbb919580c3b1dc57f",
       "version_major": 2,
       "version_minor": 0
      },
      "text/plain": [
       "  0%|          | 0/10 [00:00<?, ?it/s]"
      ]
     },
     "metadata": {},
     "output_type": "display_data"
    },
    {
     "name": "stdout",
     "output_type": "stream",
     "text": [
      "SNR=10,bw=0.16666666666666666,PSNR=31.59,SSIM=0.96\n"
     ]
    },
    {
     "data": {
      "application/vnd.jupyter.widget-view+json": {
       "model_id": "759b8f93d9634ac3a3d78c4a49a4d8ba",
       "version_major": 2,
       "version_minor": 0
      },
      "text/plain": [
       "  0%|          | 0/10 [00:00<?, ?it/s]"
      ]
     },
     "metadata": {},
     "output_type": "display_data"
    },
    {
     "name": "stdout",
     "output_type": "stream",
     "text": [
      "SNR=12,bw=0.16666666666666666,PSNR=32.83,SSIM=0.97\n"
     ]
    },
    {
     "data": {
      "application/vnd.jupyter.widget-view+json": {
       "model_id": "754325ad0ff34f36a97bf38a99bfc14d",
       "version_major": 2,
       "version_minor": 0
      },
      "text/plain": [
       "  0%|          | 0/10 [00:00<?, ?it/s]"
      ]
     },
     "metadata": {},
     "output_type": "display_data"
    },
    {
     "name": "stdout",
     "output_type": "stream",
     "text": [
      "SNR=15,bw=0.16666666666666666,PSNR=34.54,SSIM=0.98\n"
     ]
    }
   ],
   "source": [
    "# BPG + Capacity\n",
    "from tqdm.auto import tqdm\n",
    "\n",
    "bpgencoder = BPGEncoder()\n",
    "bpgdecoder = BPGDecoder()\n",
    "\n",
    "bw_ratio = [1/6]\n",
    "snrs = [0, 2, 5, 7, 10, 12, 15]\n",
    "mcs = [(1,1,1)] # dummy\n",
    "'''\n",
    "(3072, 6144), (3072, 4608), (1536, 4608)\n",
    "BPSK, 4-QAM, 16-QAM, 64-QAM\n",
    "'''\n",
    "\n",
    "for esno_db in snrs:\n",
    "    for bw in bw_ratio:\n",
    "        for _, _, _ in mcs:\n",
    "            i = 0\n",
    "            psnr = 0\n",
    "            ssim = 0\n",
    "            total_images = 0\n",
    "            for image, _ in tqdm(test_ds):\n",
    "                b, _, _, _ = image.shape\n",
    "                image = tf.cast(imBatchtoImage(image), tf.uint8)\n",
    "                max_bytes = b * 32 * 32 * 3 * bw * math.log2(1 + 10 ** (esno_db/10)) / 8\n",
    "                src_bits = bpgencoder.encode(image.numpy(), max_bytes)\n",
    "                decoded_image = bpgdecoder.decode(src_bits, image.shape)\n",
    "                total_images += b\n",
    "                psnr = (total_images - b) / (total_images) * psnr + float(b * tf.image.psnr(decoded_image, image, max_val=255)) / (total_images)\n",
    "                ssim = (total_images - b) / (total_images) * ssim + float(b * tf.image.ssim(tf.cast(decoded_image, dtype=tf.float32), tf.cast(image, dtype=tf.float32), max_val=255)) / (total_images)\n",
    "\n",
    "            print(f'SNR={esno_db},bw={bw},PSNR={psnr:.2f},SSIM={ssim:.2f}')\n"
   ]
  }
 ],
 "metadata": {
  "kernelspec": {
   "display_name": "Python 3",
   "language": "python",
   "name": "python3"
  },
  "language_info": {
   "codemirror_mode": {
    "name": "ipython",
    "version": 3
   },
   "file_extension": ".py",
   "mimetype": "text/x-python",
   "name": "python",
   "nbconvert_exporter": "python",
   "pygments_lexer": "ipython3",
   "version": "3.8.10"
  },
  "orig_nbformat": 4
 },
 "nbformat": 4,
 "nbformat_minor": 2
}
